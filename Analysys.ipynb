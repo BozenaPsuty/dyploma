{
 "cells": [
  {
   "cell_type": "code",
   "execution_count": 2,
   "id": "9b32c3c4",
   "metadata": {},
   "outputs": [],
   "source": [
    "import pandas as pd\n",
    "import os\n",
    "import ast"
   ]
  },
  {
   "cell_type": "code",
   "execution_count": 31,
   "id": "b93486b4",
   "metadata": {},
   "outputs": [],
   "source": [
    "file_path = \"C:/Users/Bosia/Desktop/sen/\""
   ]
  },
  {
   "cell_type": "code",
   "execution_count": 67,
   "id": "dc6523ea",
   "metadata": {},
   "outputs": [],
   "source": [
    "df = pd.read_csv(\"C:/Users/Bosia/Desktop/sen/mer/merged.csv\")"
   ]
  },
  {
   "cell_type": "code",
   "execution_count": 57,
   "id": "e5d56be8",
   "metadata": {},
   "outputs": [],
   "source": [
    "df.to_csv(\"C:/Users/Bosia/Desktop/sen/mer/merged.csv\", index = None)"
   ]
  },
  {
   "cell_type": "code",
   "execution_count": 97,
   "id": "a0cf26e8",
   "metadata": {},
   "outputs": [],
   "source": [
    "communities =  df.groupby(['community'])"
   ]
  },
  {
   "cell_type": "code",
   "execution_count": 98,
   "id": "8e909eb7",
   "metadata": {},
   "outputs": [],
   "source": [
    "stats =  df.groupby(['community']).mean()"
   ]
  },
  {
   "cell_type": "code",
   "execution_count": 107,
   "id": "d6087bd2",
   "metadata": {},
   "outputs": [
    {
     "data": {
      "text/html": [
       "<div>\n",
       "<style scoped>\n",
       "    .dataframe tbody tr th:only-of-type {\n",
       "        vertical-align: middle;\n",
       "    }\n",
       "\n",
       "    .dataframe tbody tr th {\n",
       "        vertical-align: top;\n",
       "    }\n",
       "\n",
       "    .dataframe thead th {\n",
       "        text-align: right;\n",
       "    }\n",
       "</style>\n",
       "<table border=\"1\" class=\"dataframe\">\n",
       "  <thead>\n",
       "    <tr style=\"text-align: right;\">\n",
       "      <th></th>\n",
       "      <th>Unnamed: 0</th>\n",
       "      <th>Unnamed: 0.1</th>\n",
       "      <th>Unnamed: 0.1.1</th>\n",
       "      <th>review_id</th>\n",
       "      <th>user_id</th>\n",
       "      <th>business_id</th>\n",
       "      <th>date</th>\n",
       "      <th>removed_aspects_3</th>\n",
       "      <th>new</th>\n",
       "      <th>pos</th>\n",
       "      <th>...</th>\n",
       "      <th>neg</th>\n",
       "      <th>scores</th>\n",
       "      <th>_id</th>\n",
       "      <th>_labels</th>\n",
       "      <th>User_name</th>\n",
       "      <th>community</th>\n",
       "      <th>_start</th>\n",
       "      <th>_end</th>\n",
       "      <th>_type</th>\n",
       "      <th>size</th>\n",
       "    </tr>\n",
       "  </thead>\n",
       "  <tbody>\n",
       "    <tr>\n",
       "      <th>0</th>\n",
       "      <td>0</td>\n",
       "      <td>4253</td>\n",
       "      <td>4253</td>\n",
       "      <td>Vajn-05FUEw4o3CjfV5MZQ</td>\n",
       "      <td>pfHICN67xeftkMIJyrvsIQ</td>\n",
       "      <td>--UNNdnHRhsyFUbDgumdtQ</td>\n",
       "      <td>2010-10-09 23:09:11</td>\n",
       "      <td>ESTABLISHMENT</td>\n",
       "      <td>[[12.5, 12.5, 75.0], [42.86, 14.29, 42.86], [1...</td>\n",
       "      <td>75.00</td>\n",
       "      <td>...</td>\n",
       "      <td>12.50</td>\n",
       "      <td>62.50</td>\n",
       "      <td>60</td>\n",
       "      <td>:USERS</td>\n",
       "      <td>C</td>\n",
       "      <td>91800</td>\n",
       "      <td>NaN</td>\n",
       "      <td>NaN</td>\n",
       "      <td>NaN</td>\n",
       "      <td>BIG</td>\n",
       "    </tr>\n",
       "    <tr>\n",
       "      <th>1</th>\n",
       "      <td>0</td>\n",
       "      <td>4253</td>\n",
       "      <td>4253</td>\n",
       "      <td>Vajn-05FUEw4o3CjfV5MZQ</td>\n",
       "      <td>pfHICN67xeftkMIJyrvsIQ</td>\n",
       "      <td>--UNNdnHRhsyFUbDgumdtQ</td>\n",
       "      <td>2010-10-09 23:09:11</td>\n",
       "      <td>FOOD</td>\n",
       "      <td>[[12.5, 12.5, 75.0], [42.86, 14.29, 42.86], [1...</td>\n",
       "      <td>42.86</td>\n",
       "      <td>...</td>\n",
       "      <td>42.86</td>\n",
       "      <td>-0.00</td>\n",
       "      <td>60</td>\n",
       "      <td>:USERS</td>\n",
       "      <td>C</td>\n",
       "      <td>91800</td>\n",
       "      <td>NaN</td>\n",
       "      <td>NaN</td>\n",
       "      <td>NaN</td>\n",
       "      <td>BIG</td>\n",
       "    </tr>\n",
       "    <tr>\n",
       "      <th>2</th>\n",
       "      <td>0</td>\n",
       "      <td>4253</td>\n",
       "      <td>4253</td>\n",
       "      <td>Vajn-05FUEw4o3CjfV5MZQ</td>\n",
       "      <td>pfHICN67xeftkMIJyrvsIQ</td>\n",
       "      <td>--UNNdnHRhsyFUbDgumdtQ</td>\n",
       "      <td>2010-10-09 23:09:11</td>\n",
       "      <td>AMBIENCE</td>\n",
       "      <td>[[12.5, 12.5, 75.0], [42.86, 14.29, 42.86], [1...</td>\n",
       "      <td>50.00</td>\n",
       "      <td>...</td>\n",
       "      <td>16.67</td>\n",
       "      <td>33.33</td>\n",
       "      <td>60</td>\n",
       "      <td>:USERS</td>\n",
       "      <td>C</td>\n",
       "      <td>91800</td>\n",
       "      <td>NaN</td>\n",
       "      <td>NaN</td>\n",
       "      <td>NaN</td>\n",
       "      <td>BIG</td>\n",
       "    </tr>\n",
       "    <tr>\n",
       "      <th>3</th>\n",
       "      <td>0</td>\n",
       "      <td>4253</td>\n",
       "      <td>4253</td>\n",
       "      <td>Vajn-05FUEw4o3CjfV5MZQ</td>\n",
       "      <td>pfHICN67xeftkMIJyrvsIQ</td>\n",
       "      <td>--UNNdnHRhsyFUbDgumdtQ</td>\n",
       "      <td>2010-10-09 23:09:11</td>\n",
       "      <td>LEVEL</td>\n",
       "      <td>[[12.5, 12.5, 75.0], [42.86, 14.29, 42.86], [1...</td>\n",
       "      <td>50.00</td>\n",
       "      <td>...</td>\n",
       "      <td>25.00</td>\n",
       "      <td>25.00</td>\n",
       "      <td>60</td>\n",
       "      <td>:USERS</td>\n",
       "      <td>C</td>\n",
       "      <td>91800</td>\n",
       "      <td>NaN</td>\n",
       "      <td>NaN</td>\n",
       "      <td>NaN</td>\n",
       "      <td>BIG</td>\n",
       "    </tr>\n",
       "    <tr>\n",
       "      <th>4</th>\n",
       "      <td>0</td>\n",
       "      <td>4253</td>\n",
       "      <td>4253</td>\n",
       "      <td>Vajn-05FUEw4o3CjfV5MZQ</td>\n",
       "      <td>pfHICN67xeftkMIJyrvsIQ</td>\n",
       "      <td>--UNNdnHRhsyFUbDgumdtQ</td>\n",
       "      <td>2010-10-09 23:09:11</td>\n",
       "      <td>ATMOSPHERE</td>\n",
       "      <td>[[12.5, 12.5, 75.0], [42.86, 14.29, 42.86], [1...</td>\n",
       "      <td>66.67</td>\n",
       "      <td>...</td>\n",
       "      <td>16.67</td>\n",
       "      <td>50.00</td>\n",
       "      <td>60</td>\n",
       "      <td>:USERS</td>\n",
       "      <td>C</td>\n",
       "      <td>91800</td>\n",
       "      <td>NaN</td>\n",
       "      <td>NaN</td>\n",
       "      <td>NaN</td>\n",
       "      <td>BIG</td>\n",
       "    </tr>\n",
       "  </tbody>\n",
       "</table>\n",
       "<p>5 rows × 21 columns</p>\n",
       "</div>"
      ],
      "text/plain": [
       "   Unnamed: 0  Unnamed: 0.1  Unnamed: 0.1.1               review_id  \\\n",
       "0           0          4253            4253  Vajn-05FUEw4o3CjfV5MZQ   \n",
       "1           0          4253            4253  Vajn-05FUEw4o3CjfV5MZQ   \n",
       "2           0          4253            4253  Vajn-05FUEw4o3CjfV5MZQ   \n",
       "3           0          4253            4253  Vajn-05FUEw4o3CjfV5MZQ   \n",
       "4           0          4253            4253  Vajn-05FUEw4o3CjfV5MZQ   \n",
       "\n",
       "                  user_id             business_id                 date  \\\n",
       "0  pfHICN67xeftkMIJyrvsIQ  --UNNdnHRhsyFUbDgumdtQ  2010-10-09 23:09:11   \n",
       "1  pfHICN67xeftkMIJyrvsIQ  --UNNdnHRhsyFUbDgumdtQ  2010-10-09 23:09:11   \n",
       "2  pfHICN67xeftkMIJyrvsIQ  --UNNdnHRhsyFUbDgumdtQ  2010-10-09 23:09:11   \n",
       "3  pfHICN67xeftkMIJyrvsIQ  --UNNdnHRhsyFUbDgumdtQ  2010-10-09 23:09:11   \n",
       "4  pfHICN67xeftkMIJyrvsIQ  --UNNdnHRhsyFUbDgumdtQ  2010-10-09 23:09:11   \n",
       "\n",
       "  removed_aspects_3                                                new    pos  \\\n",
       "0     ESTABLISHMENT  [[12.5, 12.5, 75.0], [42.86, 14.29, 42.86], [1...  75.00   \n",
       "1              FOOD  [[12.5, 12.5, 75.0], [42.86, 14.29, 42.86], [1...  42.86   \n",
       "2          AMBIENCE  [[12.5, 12.5, 75.0], [42.86, 14.29, 42.86], [1...  50.00   \n",
       "3             LEVEL  [[12.5, 12.5, 75.0], [42.86, 14.29, 42.86], [1...  50.00   \n",
       "4        ATMOSPHERE  [[12.5, 12.5, 75.0], [42.86, 14.29, 42.86], [1...  66.67   \n",
       "\n",
       "   ...    neg  scores  _id  _labels User_name community  _start  _end  _type  \\\n",
       "0  ...  12.50   62.50   60   :USERS         C     91800     NaN   NaN    NaN   \n",
       "1  ...  42.86   -0.00   60   :USERS         C     91800     NaN   NaN    NaN   \n",
       "2  ...  16.67   33.33   60   :USERS         C     91800     NaN   NaN    NaN   \n",
       "3  ...  25.00   25.00   60   :USERS         C     91800     NaN   NaN    NaN   \n",
       "4  ...  16.67   50.00   60   :USERS         C     91800     NaN   NaN    NaN   \n",
       "\n",
       "   size  \n",
       "0   BIG  \n",
       "1   BIG  \n",
       "2   BIG  \n",
       "3   BIG  \n",
       "4   BIG  \n",
       "\n",
       "[5 rows x 21 columns]"
      ]
     },
     "execution_count": 107,
     "metadata": {},
     "output_type": "execute_result"
    }
   ],
   "source": [
    "df.head()"
   ]
  },
  {
   "cell_type": "code",
   "execution_count": 68,
   "id": "f7273182",
   "metadata": {},
   "outputs": [],
   "source": [
    "size =[]\n",
    "for x in df['community']:\n",
    "    if x in {106604, 104012, 91800, 91967, 14489, 112618, 105034, 133796, 91799}:\n",
    "        size.append(\"BIG\")\n",
    "    else:\n",
    "        size.append(\"SMALL\")  \n",
    "df['size'] = size"
   ]
  },
  {
   "cell_type": "code",
   "execution_count": 69,
   "id": "1f553922",
   "metadata": {},
   "outputs": [],
   "source": [
    "sizes = df.groupby(['size'])"
   ]
  },
  {
   "cell_type": "code",
   "execution_count": 70,
   "id": "a30fed87",
   "metadata": {},
   "outputs": [],
   "source": [
    "small = sizes.get_group('SMALL')\n",
    "big = sizes.get_group('BIG')"
   ]
  },
  {
   "cell_type": "code",
   "execution_count": 72,
   "id": "5d32763f",
   "metadata": {},
   "outputs": [],
   "source": [
    "for_big = big.groupby(['removed_aspects_3']).mean()"
   ]
  },
  {
   "cell_type": "code",
   "execution_count": 103,
   "id": "6df814dd",
   "metadata": {},
   "outputs": [],
   "source": [
    "for_small = small.groupby(['removed_aspects_3']).mean()"
   ]
  },
  {
   "cell_type": "code",
   "execution_count": 105,
   "id": "2b7afba2",
   "metadata": {},
   "outputs": [
    {
     "data": {
      "text/html": [
       "<div>\n",
       "<style scoped>\n",
       "    .dataframe tbody tr th:only-of-type {\n",
       "        vertical-align: middle;\n",
       "    }\n",
       "\n",
       "    .dataframe tbody tr th {\n",
       "        vertical-align: top;\n",
       "    }\n",
       "\n",
       "    .dataframe thead th {\n",
       "        text-align: right;\n",
       "    }\n",
       "</style>\n",
       "<table border=\"1\" class=\"dataframe\">\n",
       "  <thead>\n",
       "    <tr style=\"text-align: right;\">\n",
       "      <th></th>\n",
       "      <th>removed_aspects_3</th>\n",
       "      <th>Unnamed: 0</th>\n",
       "      <th>Unnamed: 0.1</th>\n",
       "      <th>Unnamed: 0.1.1</th>\n",
       "      <th>pos</th>\n",
       "      <th>obj</th>\n",
       "      <th>neg</th>\n",
       "      <th>scores</th>\n",
       "      <th>_id</th>\n",
       "      <th>community</th>\n",
       "      <th>_start</th>\n",
       "      <th>_end</th>\n",
       "      <th>_type</th>\n",
       "    </tr>\n",
       "  </thead>\n",
       "  <tbody>\n",
       "    <tr>\n",
       "      <th>0</th>\n",
       "      <td>ABILITY</td>\n",
       "      <td>434726.490392</td>\n",
       "      <td>817897.787087</td>\n",
       "      <td>817897.787087</td>\n",
       "      <td>56.153028</td>\n",
       "      <td>14.527194</td>\n",
       "      <td>23.554789</td>\n",
       "      <td>-32.598240</td>\n",
       "      <td>69416.841660</td>\n",
       "      <td>92750.283628</td>\n",
       "      <td>NaN</td>\n",
       "      <td>NaN</td>\n",
       "      <td>NaN</td>\n",
       "    </tr>\n",
       "    <tr>\n",
       "      <th>1</th>\n",
       "      <td>ABUNDANCE</td>\n",
       "      <td>433697.345515</td>\n",
       "      <td>799901.215947</td>\n",
       "      <td>799901.215947</td>\n",
       "      <td>57.211927</td>\n",
       "      <td>15.364109</td>\n",
       "      <td>20.115138</td>\n",
       "      <td>-37.096788</td>\n",
       "      <td>70080.274640</td>\n",
       "      <td>91483.620155</td>\n",
       "      <td>NaN</td>\n",
       "      <td>NaN</td>\n",
       "      <td>NaN</td>\n",
       "    </tr>\n",
       "    <tr>\n",
       "      <th>2</th>\n",
       "      <td>AC</td>\n",
       "      <td>430294.289991</td>\n",
       "      <td>818588.059025</td>\n",
       "      <td>818588.059025</td>\n",
       "      <td>62.099991</td>\n",
       "      <td>15.593507</td>\n",
       "      <td>20.681104</td>\n",
       "      <td>-41.418888</td>\n",
       "      <td>68518.920445</td>\n",
       "      <td>92762.038494</td>\n",
       "      <td>NaN</td>\n",
       "      <td>NaN</td>\n",
       "      <td>NaN</td>\n",
       "    </tr>\n",
       "    <tr>\n",
       "      <th>3</th>\n",
       "      <td>ACCESS</td>\n",
       "      <td>415527.401914</td>\n",
       "      <td>826293.931419</td>\n",
       "      <td>826293.931419</td>\n",
       "      <td>57.526124</td>\n",
       "      <td>13.078442</td>\n",
       "      <td>25.992780</td>\n",
       "      <td>-31.533344</td>\n",
       "      <td>70582.162679</td>\n",
       "      <td>88768.942052</td>\n",
       "      <td>NaN</td>\n",
       "      <td>NaN</td>\n",
       "      <td>NaN</td>\n",
       "    </tr>\n",
       "    <tr>\n",
       "      <th>4</th>\n",
       "      <td>ACCIDENT</td>\n",
       "      <td>432270.184516</td>\n",
       "      <td>818800.211613</td>\n",
       "      <td>818800.211613</td>\n",
       "      <td>54.312374</td>\n",
       "      <td>13.444142</td>\n",
       "      <td>22.953123</td>\n",
       "      <td>-31.359252</td>\n",
       "      <td>75884.254194</td>\n",
       "      <td>91690.486452</td>\n",
       "      <td>NaN</td>\n",
       "      <td>NaN</td>\n",
       "      <td>NaN</td>\n",
       "    </tr>\n",
       "    <tr>\n",
       "      <th>...</th>\n",
       "      <td>...</td>\n",
       "      <td>...</td>\n",
       "      <td>...</td>\n",
       "      <td>...</td>\n",
       "      <td>...</td>\n",
       "      <td>...</td>\n",
       "      <td>...</td>\n",
       "      <td>...</td>\n",
       "      <td>...</td>\n",
       "      <td>...</td>\n",
       "      <td>...</td>\n",
       "      <td>...</td>\n",
       "      <td>...</td>\n",
       "    </tr>\n",
       "    <tr>\n",
       "      <th>1461</th>\n",
       "      <td>YOGURT</td>\n",
       "      <td>400915.413864</td>\n",
       "      <td>816084.507893</td>\n",
       "      <td>816084.507893</td>\n",
       "      <td>63.212553</td>\n",
       "      <td>13.503789</td>\n",
       "      <td>20.057804</td>\n",
       "      <td>-43.154749</td>\n",
       "      <td>65871.319835</td>\n",
       "      <td>94143.785175</td>\n",
       "      <td>NaN</td>\n",
       "      <td>NaN</td>\n",
       "      <td>NaN</td>\n",
       "    </tr>\n",
       "    <tr>\n",
       "      <th>1462</th>\n",
       "      <td>YOLK</td>\n",
       "      <td>438388.666247</td>\n",
       "      <td>823248.620907</td>\n",
       "      <td>823248.620907</td>\n",
       "      <td>52.417204</td>\n",
       "      <td>15.363904</td>\n",
       "      <td>28.944106</td>\n",
       "      <td>-23.473098</td>\n",
       "      <td>69094.173804</td>\n",
       "      <td>91662.060453</td>\n",
       "      <td>NaN</td>\n",
       "      <td>NaN</td>\n",
       "      <td>NaN</td>\n",
       "    </tr>\n",
       "    <tr>\n",
       "      <th>1463</th>\n",
       "      <td>YORK</td>\n",
       "      <td>438192.066327</td>\n",
       "      <td>821573.033163</td>\n",
       "      <td>821573.033163</td>\n",
       "      <td>45.240362</td>\n",
       "      <td>8.727607</td>\n",
       "      <td>46.032041</td>\n",
       "      <td>0.791679</td>\n",
       "      <td>75329.938776</td>\n",
       "      <td>94495.631122</td>\n",
       "      <td>NaN</td>\n",
       "      <td>NaN</td>\n",
       "      <td>NaN</td>\n",
       "    </tr>\n",
       "    <tr>\n",
       "      <th>1464</th>\n",
       "      <td>YUM</td>\n",
       "      <td>429699.722602</td>\n",
       "      <td>821217.765510</td>\n",
       "      <td>821217.765510</td>\n",
       "      <td>27.427748</td>\n",
       "      <td>4.835343</td>\n",
       "      <td>9.114318</td>\n",
       "      <td>-18.313430</td>\n",
       "      <td>70906.683520</td>\n",
       "      <td>92445.171632</td>\n",
       "      <td>NaN</td>\n",
       "      <td>NaN</td>\n",
       "      <td>NaN</td>\n",
       "    </tr>\n",
       "    <tr>\n",
       "      <th>1465</th>\n",
       "      <td>ZUCCHINI</td>\n",
       "      <td>462242.426752</td>\n",
       "      <td>828975.559600</td>\n",
       "      <td>828975.559600</td>\n",
       "      <td>55.890027</td>\n",
       "      <td>17.429845</td>\n",
       "      <td>17.580773</td>\n",
       "      <td>-38.309254</td>\n",
       "      <td>67124.616015</td>\n",
       "      <td>78286.802548</td>\n",
       "      <td>NaN</td>\n",
       "      <td>NaN</td>\n",
       "      <td>NaN</td>\n",
       "    </tr>\n",
       "  </tbody>\n",
       "</table>\n",
       "<p>1466 rows × 13 columns</p>\n",
       "</div>"
      ],
      "text/plain": [
       "     removed_aspects_3     Unnamed: 0   Unnamed: 0.1  Unnamed: 0.1.1  \\\n",
       "0              ABILITY  434726.490392  817897.787087   817897.787087   \n",
       "1            ABUNDANCE  433697.345515  799901.215947   799901.215947   \n",
       "2                   AC  430294.289991  818588.059025   818588.059025   \n",
       "3               ACCESS  415527.401914  826293.931419   826293.931419   \n",
       "4             ACCIDENT  432270.184516  818800.211613   818800.211613   \n",
       "...                ...            ...            ...             ...   \n",
       "1461            YOGURT  400915.413864  816084.507893   816084.507893   \n",
       "1462              YOLK  438388.666247  823248.620907   823248.620907   \n",
       "1463              YORK  438192.066327  821573.033163   821573.033163   \n",
       "1464               YUM  429699.722602  821217.765510   821217.765510   \n",
       "1465          ZUCCHINI  462242.426752  828975.559600   828975.559600   \n",
       "\n",
       "            pos        obj        neg     scores           _id     community  \\\n",
       "0     56.153028  14.527194  23.554789 -32.598240  69416.841660  92750.283628   \n",
       "1     57.211927  15.364109  20.115138 -37.096788  70080.274640  91483.620155   \n",
       "2     62.099991  15.593507  20.681104 -41.418888  68518.920445  92762.038494   \n",
       "3     57.526124  13.078442  25.992780 -31.533344  70582.162679  88768.942052   \n",
       "4     54.312374  13.444142  22.953123 -31.359252  75884.254194  91690.486452   \n",
       "...         ...        ...        ...        ...           ...           ...   \n",
       "1461  63.212553  13.503789  20.057804 -43.154749  65871.319835  94143.785175   \n",
       "1462  52.417204  15.363904  28.944106 -23.473098  69094.173804  91662.060453   \n",
       "1463  45.240362   8.727607  46.032041   0.791679  75329.938776  94495.631122   \n",
       "1464  27.427748   4.835343   9.114318 -18.313430  70906.683520  92445.171632   \n",
       "1465  55.890027  17.429845  17.580773 -38.309254  67124.616015  78286.802548   \n",
       "\n",
       "      _start  _end  _type  \n",
       "0        NaN   NaN    NaN  \n",
       "1        NaN   NaN    NaN  \n",
       "2        NaN   NaN    NaN  \n",
       "3        NaN   NaN    NaN  \n",
       "4        NaN   NaN    NaN  \n",
       "...      ...   ...    ...  \n",
       "1461     NaN   NaN    NaN  \n",
       "1462     NaN   NaN    NaN  \n",
       "1463     NaN   NaN    NaN  \n",
       "1464     NaN   NaN    NaN  \n",
       "1465     NaN   NaN    NaN  \n",
       "\n",
       "[1466 rows x 13 columns]"
      ]
     },
     "execution_count": 105,
     "metadata": {},
     "output_type": "execute_result"
    }
   ],
   "source": [
    "for_big"
   ]
  },
  {
   "cell_type": "code",
   "execution_count": 74,
   "id": "6c34626a",
   "metadata": {},
   "outputs": [],
   "source": [
    "for_big.to_csv(\"for_big_a.csv\")\n",
    "for_small.to_csv(\"for_small_a.csv\")"
   ]
  },
  {
   "cell_type": "code",
   "execution_count": 75,
   "id": "1aa9b859",
   "metadata": {},
   "outputs": [
    {
     "data": {
      "text/html": [
       "<div>\n",
       "<style scoped>\n",
       "    .dataframe tbody tr th:only-of-type {\n",
       "        vertical-align: middle;\n",
       "    }\n",
       "\n",
       "    .dataframe tbody tr th {\n",
       "        vertical-align: top;\n",
       "    }\n",
       "\n",
       "    .dataframe thead th {\n",
       "        text-align: right;\n",
       "    }\n",
       "</style>\n",
       "<table border=\"1\" class=\"dataframe\">\n",
       "  <thead>\n",
       "    <tr style=\"text-align: right;\">\n",
       "      <th></th>\n",
       "      <th>Unnamed: 0</th>\n",
       "      <th>Unnamed: 0.1</th>\n",
       "      <th>Unnamed: 0.1.1</th>\n",
       "      <th>pos</th>\n",
       "      <th>obj</th>\n",
       "      <th>neg</th>\n",
       "      <th>scores</th>\n",
       "      <th>_id</th>\n",
       "      <th>community</th>\n",
       "      <th>_start</th>\n",
       "      <th>_end</th>\n",
       "      <th>_type</th>\n",
       "    </tr>\n",
       "    <tr>\n",
       "      <th>removed_aspects_3</th>\n",
       "      <th></th>\n",
       "      <th></th>\n",
       "      <th></th>\n",
       "      <th></th>\n",
       "      <th></th>\n",
       "      <th></th>\n",
       "      <th></th>\n",
       "      <th></th>\n",
       "      <th></th>\n",
       "      <th></th>\n",
       "      <th></th>\n",
       "      <th></th>\n",
       "    </tr>\n",
       "  </thead>\n",
       "  <tbody>\n",
       "    <tr>\n",
       "      <th>ABILITY</th>\n",
       "      <td>434726.490392</td>\n",
       "      <td>817897.787087</td>\n",
       "      <td>817897.787087</td>\n",
       "      <td>56.153028</td>\n",
       "      <td>14.527194</td>\n",
       "      <td>23.554789</td>\n",
       "      <td>-32.598240</td>\n",
       "      <td>69416.841660</td>\n",
       "      <td>92750.283628</td>\n",
       "      <td>NaN</td>\n",
       "      <td>NaN</td>\n",
       "      <td>NaN</td>\n",
       "    </tr>\n",
       "    <tr>\n",
       "      <th>ABUNDANCE</th>\n",
       "      <td>433697.345515</td>\n",
       "      <td>799901.215947</td>\n",
       "      <td>799901.215947</td>\n",
       "      <td>57.211927</td>\n",
       "      <td>15.364109</td>\n",
       "      <td>20.115138</td>\n",
       "      <td>-37.096788</td>\n",
       "      <td>70080.274640</td>\n",
       "      <td>91483.620155</td>\n",
       "      <td>NaN</td>\n",
       "      <td>NaN</td>\n",
       "      <td>NaN</td>\n",
       "    </tr>\n",
       "    <tr>\n",
       "      <th>AC</th>\n",
       "      <td>430294.289991</td>\n",
       "      <td>818588.059025</td>\n",
       "      <td>818588.059025</td>\n",
       "      <td>62.099991</td>\n",
       "      <td>15.593507</td>\n",
       "      <td>20.681104</td>\n",
       "      <td>-41.418888</td>\n",
       "      <td>68518.920445</td>\n",
       "      <td>92762.038494</td>\n",
       "      <td>NaN</td>\n",
       "      <td>NaN</td>\n",
       "      <td>NaN</td>\n",
       "    </tr>\n",
       "    <tr>\n",
       "      <th>ACCESS</th>\n",
       "      <td>415527.401914</td>\n",
       "      <td>826293.931419</td>\n",
       "      <td>826293.931419</td>\n",
       "      <td>57.526124</td>\n",
       "      <td>13.078442</td>\n",
       "      <td>25.992780</td>\n",
       "      <td>-31.533344</td>\n",
       "      <td>70582.162679</td>\n",
       "      <td>88768.942052</td>\n",
       "      <td>NaN</td>\n",
       "      <td>NaN</td>\n",
       "      <td>NaN</td>\n",
       "    </tr>\n",
       "    <tr>\n",
       "      <th>ACCIDENT</th>\n",
       "      <td>432270.184516</td>\n",
       "      <td>818800.211613</td>\n",
       "      <td>818800.211613</td>\n",
       "      <td>54.312374</td>\n",
       "      <td>13.444142</td>\n",
       "      <td>22.953123</td>\n",
       "      <td>-31.359252</td>\n",
       "      <td>75884.254194</td>\n",
       "      <td>91690.486452</td>\n",
       "      <td>NaN</td>\n",
       "      <td>NaN</td>\n",
       "      <td>NaN</td>\n",
       "    </tr>\n",
       "    <tr>\n",
       "      <th>...</th>\n",
       "      <td>...</td>\n",
       "      <td>...</td>\n",
       "      <td>...</td>\n",
       "      <td>...</td>\n",
       "      <td>...</td>\n",
       "      <td>...</td>\n",
       "      <td>...</td>\n",
       "      <td>...</td>\n",
       "      <td>...</td>\n",
       "      <td>...</td>\n",
       "      <td>...</td>\n",
       "      <td>...</td>\n",
       "    </tr>\n",
       "    <tr>\n",
       "      <th>YOGURT</th>\n",
       "      <td>400915.413864</td>\n",
       "      <td>816084.507893</td>\n",
       "      <td>816084.507893</td>\n",
       "      <td>63.212553</td>\n",
       "      <td>13.503789</td>\n",
       "      <td>20.057804</td>\n",
       "      <td>-43.154749</td>\n",
       "      <td>65871.319835</td>\n",
       "      <td>94143.785175</td>\n",
       "      <td>NaN</td>\n",
       "      <td>NaN</td>\n",
       "      <td>NaN</td>\n",
       "    </tr>\n",
       "    <tr>\n",
       "      <th>YOLK</th>\n",
       "      <td>438388.666247</td>\n",
       "      <td>823248.620907</td>\n",
       "      <td>823248.620907</td>\n",
       "      <td>52.417204</td>\n",
       "      <td>15.363904</td>\n",
       "      <td>28.944106</td>\n",
       "      <td>-23.473098</td>\n",
       "      <td>69094.173804</td>\n",
       "      <td>91662.060453</td>\n",
       "      <td>NaN</td>\n",
       "      <td>NaN</td>\n",
       "      <td>NaN</td>\n",
       "    </tr>\n",
       "    <tr>\n",
       "      <th>YORK</th>\n",
       "      <td>438192.066327</td>\n",
       "      <td>821573.033163</td>\n",
       "      <td>821573.033163</td>\n",
       "      <td>45.240362</td>\n",
       "      <td>8.727607</td>\n",
       "      <td>46.032041</td>\n",
       "      <td>0.791679</td>\n",
       "      <td>75329.938776</td>\n",
       "      <td>94495.631122</td>\n",
       "      <td>NaN</td>\n",
       "      <td>NaN</td>\n",
       "      <td>NaN</td>\n",
       "    </tr>\n",
       "    <tr>\n",
       "      <th>YUM</th>\n",
       "      <td>429699.722602</td>\n",
       "      <td>821217.765510</td>\n",
       "      <td>821217.765510</td>\n",
       "      <td>27.427748</td>\n",
       "      <td>4.835343</td>\n",
       "      <td>9.114318</td>\n",
       "      <td>-18.313430</td>\n",
       "      <td>70906.683520</td>\n",
       "      <td>92445.171632</td>\n",
       "      <td>NaN</td>\n",
       "      <td>NaN</td>\n",
       "      <td>NaN</td>\n",
       "    </tr>\n",
       "    <tr>\n",
       "      <th>ZUCCHINI</th>\n",
       "      <td>462242.426752</td>\n",
       "      <td>828975.559600</td>\n",
       "      <td>828975.559600</td>\n",
       "      <td>55.890027</td>\n",
       "      <td>17.429845</td>\n",
       "      <td>17.580773</td>\n",
       "      <td>-38.309254</td>\n",
       "      <td>67124.616015</td>\n",
       "      <td>78286.802548</td>\n",
       "      <td>NaN</td>\n",
       "      <td>NaN</td>\n",
       "      <td>NaN</td>\n",
       "    </tr>\n",
       "  </tbody>\n",
       "</table>\n",
       "<p>1466 rows × 12 columns</p>\n",
       "</div>"
      ],
      "text/plain": [
       "                      Unnamed: 0   Unnamed: 0.1  Unnamed: 0.1.1        pos  \\\n",
       "removed_aspects_3                                                            \n",
       "ABILITY            434726.490392  817897.787087   817897.787087  56.153028   \n",
       "ABUNDANCE          433697.345515  799901.215947   799901.215947  57.211927   \n",
       "AC                 430294.289991  818588.059025   818588.059025  62.099991   \n",
       "ACCESS             415527.401914  826293.931419   826293.931419  57.526124   \n",
       "ACCIDENT           432270.184516  818800.211613   818800.211613  54.312374   \n",
       "...                          ...            ...             ...        ...   \n",
       "YOGURT             400915.413864  816084.507893   816084.507893  63.212553   \n",
       "YOLK               438388.666247  823248.620907   823248.620907  52.417204   \n",
       "YORK               438192.066327  821573.033163   821573.033163  45.240362   \n",
       "YUM                429699.722602  821217.765510   821217.765510  27.427748   \n",
       "ZUCCHINI           462242.426752  828975.559600   828975.559600  55.890027   \n",
       "\n",
       "                         obj        neg     scores           _id  \\\n",
       "removed_aspects_3                                                  \n",
       "ABILITY            14.527194  23.554789 -32.598240  69416.841660   \n",
       "ABUNDANCE          15.364109  20.115138 -37.096788  70080.274640   \n",
       "AC                 15.593507  20.681104 -41.418888  68518.920445   \n",
       "ACCESS             13.078442  25.992780 -31.533344  70582.162679   \n",
       "ACCIDENT           13.444142  22.953123 -31.359252  75884.254194   \n",
       "...                      ...        ...        ...           ...   \n",
       "YOGURT             13.503789  20.057804 -43.154749  65871.319835   \n",
       "YOLK               15.363904  28.944106 -23.473098  69094.173804   \n",
       "YORK                8.727607  46.032041   0.791679  75329.938776   \n",
       "YUM                 4.835343   9.114318 -18.313430  70906.683520   \n",
       "ZUCCHINI           17.429845  17.580773 -38.309254  67124.616015   \n",
       "\n",
       "                      community  _start  _end  _type  \n",
       "removed_aspects_3                                     \n",
       "ABILITY            92750.283628     NaN   NaN    NaN  \n",
       "ABUNDANCE          91483.620155     NaN   NaN    NaN  \n",
       "AC                 92762.038494     NaN   NaN    NaN  \n",
       "ACCESS             88768.942052     NaN   NaN    NaN  \n",
       "ACCIDENT           91690.486452     NaN   NaN    NaN  \n",
       "...                         ...     ...   ...    ...  \n",
       "YOGURT             94143.785175     NaN   NaN    NaN  \n",
       "YOLK               91662.060453     NaN   NaN    NaN  \n",
       "YORK               94495.631122     NaN   NaN    NaN  \n",
       "YUM                92445.171632     NaN   NaN    NaN  \n",
       "ZUCCHINI           78286.802548     NaN   NaN    NaN  \n",
       "\n",
       "[1466 rows x 12 columns]"
      ]
     },
     "execution_count": 75,
     "metadata": {},
     "output_type": "execute_result"
    }
   ],
   "source": [
    "for_big"
   ]
  },
  {
   "cell_type": "code",
   "execution_count": 84,
   "id": "cfb81f5a",
   "metadata": {},
   "outputs": [],
   "source": [
    "business = df.groupby(['community'])['business_id'].value_counts()"
   ]
  },
  {
   "cell_type": "code",
   "execution_count": 85,
   "id": "44ce6c79",
   "metadata": {},
   "outputs": [
    {
     "data": {
      "text/plain": [
       "community  business_id           \n",
       "14         DZm67Anqn1IQTB9iGvw4Fw     6\n",
       "16         DZm67Anqn1IQTB9iGvw4Fw     2\n",
       "19         DZm67Anqn1IQTB9iGvw4Fw     2\n",
       "22         DZm67Anqn1IQTB9iGvw4Fw    10\n",
       "           h4Un3Tw0yKn7uCLseO7Bvg     7\n",
       "                                     ..\n",
       "201041     X6ZwrbTz6AlmHqF1FGsOqg     8\n",
       "201042     X6ZwrbTz6AlmHqF1FGsOqg    16\n",
       "201043     X6ZwrbTz6AlmHqF1FGsOqg    14\n",
       "201047     X6ZwrbTz6AlmHqF1FGsOqg     1\n",
       "201052     X6ZwrbTz6AlmHqF1FGsOqg     9\n",
       "Name: business_id, Length: 59473, dtype: int64"
      ]
     },
     "execution_count": 85,
     "metadata": {},
     "output_type": "execute_result"
    }
   ],
   "source": [
    "business"
   ]
  },
  {
   "cell_type": "code",
   "execution_count": 83,
   "id": "bec57939",
   "metadata": {},
   "outputs": [],
   "source": [
    "ids = df.groupby(['community'])['_id'].value_counts()"
   ]
  },
  {
   "cell_type": "code",
   "execution_count": 86,
   "id": "78f0ef5e",
   "metadata": {},
   "outputs": [
    {
     "data": {
      "text/plain": [
       "community  _id   \n",
       "14         163982     6\n",
       "16         163984     2\n",
       "19         163987     2\n",
       "22         163990    17\n",
       "23         163991    16\n",
       "                     ..\n",
       "201041     109290     8\n",
       "201042     109291    16\n",
       "201043     109292    14\n",
       "201047     109296     1\n",
       "201052     109301     9\n",
       "Name: _id, Length: 201063, dtype: int64"
      ]
     },
     "execution_count": 86,
     "metadata": {},
     "output_type": "execute_result"
    }
   ],
   "source": [
    "ids"
   ]
  },
  {
   "cell_type": "code",
   "execution_count": 88,
   "id": "0eea934a",
   "metadata": {},
   "outputs": [],
   "source": [
    "m_score = df.groupby(['community', 'business_id'])['scores'].mean()"
   ]
  },
  {
   "cell_type": "code",
   "execution_count": 89,
   "id": "a6f51432",
   "metadata": {},
   "outputs": [
    {
     "data": {
      "text/plain": [
       "community  business_id           \n",
       "14         DZm67Anqn1IQTB9iGvw4Fw    -51.190000\n",
       "16         DZm67Anqn1IQTB9iGvw4Fw    -60.000000\n",
       "19         DZm67Anqn1IQTB9iGvw4Fw    100.000000\n",
       "22         DZm67Anqn1IQTB9iGvw4Fw    -57.477000\n",
       "           h4Un3Tw0yKn7uCLseO7Bvg     -3.332857\n",
       "                                        ...    \n",
       "201041     X6ZwrbTz6AlmHqF1FGsOqg    -25.000000\n",
       "201042     X6ZwrbTz6AlmHqF1FGsOqg    -42.293750\n",
       "201043     X6ZwrbTz6AlmHqF1FGsOqg    -55.401429\n",
       "201047     X6ZwrbTz6AlmHqF1FGsOqg    -66.670000\n",
       "201052     X6ZwrbTz6AlmHqF1FGsOqg    -83.333333\n",
       "Name: scores, Length: 59473, dtype: float64"
      ]
     },
     "execution_count": 89,
     "metadata": {},
     "output_type": "execute_result"
    }
   ],
   "source": [
    "m_score"
   ]
  },
  {
   "cell_type": "code",
   "execution_count": 97,
   "id": "98a83699",
   "metadata": {},
   "outputs": [],
   "source": [
    "deviation = big.groupby(['community', 'business_id'])['scores'].std()"
   ]
  },
  {
   "cell_type": "code",
   "execution_count": 16,
   "id": "be97e8b8",
   "metadata": {},
   "outputs": [
    {
     "data": {
      "text/plain": [
       "50.756386126353654"
      ]
     },
     "execution_count": 16,
     "metadata": {},
     "output_type": "execute_result"
    }
   ],
   "source": [
    "deviation.mean()"
   ]
  },
  {
   "cell_type": "code",
   "execution_count": 4,
   "id": "6e207363",
   "metadata": {},
   "outputs": [
    {
     "data": {
      "text/plain": [
       "35.442495423731366"
      ]
     },
     "execution_count": 4,
     "metadata": {},
     "output_type": "execute_result"
    }
   ],
   "source": [
    "df.scores.mean()"
   ]
  },
  {
   "cell_type": "code",
   "execution_count": 7,
   "id": "362abcea",
   "metadata": {},
   "outputs": [],
   "source": [
    "groped_aspects = df.groupby(['removed_aspects_3'])"
   ]
  },
  {
   "cell_type": "code",
   "execution_count": 39,
   "id": "3a4ed639",
   "metadata": {},
   "outputs": [],
   "source": [
    "mean = df.groupby(['removed_aspects_3'])['scores'].std()"
   ]
  },
  {
   "cell_type": "code",
   "execution_count": 40,
   "id": "4e5ed85f",
   "metadata": {},
   "outputs": [
    {
     "data": {
      "text/plain": [
       "50.756386126353654"
      ]
     },
     "execution_count": 40,
     "metadata": {},
     "output_type": "execute_result"
    }
   ],
   "source": [
    " mean.mean()"
   ]
  },
  {
   "cell_type": "code",
   "execution_count": 9,
   "id": "9e2d0ba3",
   "metadata": {},
   "outputs": [],
   "source": [
    "FOOD = groped_aspects.get_group('FOOD')\n",
    "PLACE = groped_aspects.get_group('PLACE')\n",
    "SERVICE = groped_aspects.get_group('SERVICE')\n",
    "TIME = groped_aspects.get_group('TIME')\n",
    "RESTAURANT = groped_aspects.get_group('RESTAURANT')\n",
    "ORDER = groped_aspects.get_group('ORDER')\n",
    "MENU = groped_aspects.get_group('MENU')\n",
    "STAFF = groped_aspects.get_group('STAFF')\n",
    "TABLE = groped_aspects.get_group('TABLE')\n",
    "EXPERIENCE = groped_aspects.get_group('EXPERIENCE')\n",
    "MEAL = groped_aspects.get_group('MEAL')\n",
    "aspects = [FOOD, PLACE, SERVICE, TIME, RESTAURANT, ORDER, MENU, STAFF, TABLE, EXPERIENCE, MEAL]"
   ]
  },
  {
   "cell_type": "code",
   "execution_count": 13,
   "id": "b28dceed",
   "metadata": {},
   "outputs": [
    {
     "name": "stdout",
     "output_type": "stream",
     "text": [
      "25.09059979773769\n",
      "27.86665512015964\n",
      "20.904682572600898\n",
      "49.07407816292045\n",
      "28.543192492213525\n",
      "43.236108570926156\n",
      "32.67716608160008\n",
      "9.682882208181084\n",
      "38.19680157484176\n",
      "28.901364834085864\n",
      "32.88923950973354\n"
     ]
    }
   ],
   "source": [
    "for x in aspects:\n",
    "    print(x.scores.mean())"
   ]
  },
  {
   "cell_type": "code",
   "execution_count": 92,
   "id": "95309655",
   "metadata": {},
   "outputs": [],
   "source": [
    "for_big = pd.read_csv(\"C:/Users/Bosia/Desktop/for graphs/for_big_a.csv\")\n",
    "for_small = pd.read_csv(\"C:/Users/Bosia/Desktop/for graphs/for_small_a.csv\")"
   ]
  },
  {
   "cell_type": "code",
   "execution_count": 83,
   "id": "863309d2",
   "metadata": {},
   "outputs": [],
   "source": [
    "deviation = df.groupby(['community'])['scores'].std()\n",
    "mean = df.groupby(['community'])['scores'].mean()"
   ]
  },
  {
   "cell_type": "code",
   "execution_count": 111,
   "id": "788eb12f",
   "metadata": {},
   "outputs": [],
   "source": [
    "deviation = big.groupby(['community', 'business_id', 'removed_aspects_3'])['scores'].std()\n",
    "mean = big.groupby(['community', 'business_id', 'removed_aspects_3'])['scores'].mean()"
   ]
  },
  {
   "cell_type": "code",
   "execution_count": 112,
   "id": "3d2144ae",
   "metadata": {},
   "outputs": [
    {
     "name": "stdout",
     "output_type": "stream",
     "text": [
      "28.27469072683385\n",
      "36.703088862346554\n"
     ]
    }
   ],
   "source": [
    "print(deviation.mean())\n",
    "print(mean.mean())"
   ]
  },
  {
   "cell_type": "code",
   "execution_count": 60,
   "id": "120638e0",
   "metadata": {},
   "outputs": [],
   "source": [
    "business = df.groupby(['business_id'])['removed_aspects_3'].value_counts()"
   ]
  },
  {
   "cell_type": "code",
   "execution_count": 66,
   "id": "08eddc46",
   "metadata": {},
   "outputs": [
    {
     "data": {
      "text/html": [
       "<div>\n",
       "<style scoped>\n",
       "    .dataframe tbody tr th:only-of-type {\n",
       "        vertical-align: middle;\n",
       "    }\n",
       "\n",
       "    .dataframe tbody tr th {\n",
       "        vertical-align: top;\n",
       "    }\n",
       "\n",
       "    .dataframe thead th {\n",
       "        text-align: right;\n",
       "    }\n",
       "</style>\n",
       "<table border=\"1\" class=\"dataframe\">\n",
       "  <thead>\n",
       "    <tr style=\"text-align: right;\">\n",
       "      <th></th>\n",
       "      <th>business_id</th>\n",
       "      <th>removed_aspects_3</th>\n",
       "      <th>removed_aspects_3.1</th>\n",
       "    </tr>\n",
       "  </thead>\n",
       "  <tbody>\n",
       "    <tr>\n",
       "      <th>0</th>\n",
       "      <td>--UNNdnHRhsyFUbDgumdtQ</td>\n",
       "      <td>FOOD</td>\n",
       "      <td>417</td>\n",
       "    </tr>\n",
       "    <tr>\n",
       "      <th>1</th>\n",
       "      <td>--UNNdnHRhsyFUbDgumdtQ</td>\n",
       "      <td>PLACE</td>\n",
       "      <td>339</td>\n",
       "    </tr>\n",
       "    <tr>\n",
       "      <th>2</th>\n",
       "      <td>--UNNdnHRhsyFUbDgumdtQ</td>\n",
       "      <td>MEAL</td>\n",
       "      <td>294</td>\n",
       "    </tr>\n",
       "    <tr>\n",
       "      <th>3</th>\n",
       "      <td>--UNNdnHRhsyFUbDgumdtQ</td>\n",
       "      <td>RESTAURANT</td>\n",
       "      <td>292</td>\n",
       "    </tr>\n",
       "    <tr>\n",
       "      <th>4</th>\n",
       "      <td>--UNNdnHRhsyFUbDgumdtQ</td>\n",
       "      <td>TIME</td>\n",
       "      <td>260</td>\n",
       "    </tr>\n",
       "  </tbody>\n",
       "</table>\n",
       "</div>"
      ],
      "text/plain": [
       "              business_id removed_aspects_3  removed_aspects_3.1\n",
       "0  --UNNdnHRhsyFUbDgumdtQ              FOOD                  417\n",
       "1  --UNNdnHRhsyFUbDgumdtQ             PLACE                  339\n",
       "2  --UNNdnHRhsyFUbDgumdtQ              MEAL                  294\n",
       "3  --UNNdnHRhsyFUbDgumdtQ        RESTAURANT                  292\n",
       "4  --UNNdnHRhsyFUbDgumdtQ              TIME                  260"
      ]
     },
     "execution_count": 66,
     "metadata": {},
     "output_type": "execute_result"
    }
   ],
   "source": [
    "business.head()"
   ]
  },
  {
   "cell_type": "code",
   "execution_count": 59,
   "id": "8db63000",
   "metadata": {},
   "outputs": [
    {
     "data": {
      "text/plain": [
       "5"
      ]
     },
     "execution_count": 59,
     "metadata": {},
     "output_type": "execute_result"
    }
   ],
   "source": [
    "len(business)"
   ]
  },
  {
   "cell_type": "code",
   "execution_count": 65,
   "id": "794c6258",
   "metadata": {},
   "outputs": [],
   "source": [
    "business = pd.read_csv('C:/Users/Bosia/Desktop/for graphs/business_score.csv')"
   ]
  },
  {
   "cell_type": "code",
   "execution_count": 74,
   "id": "5163ec0f",
   "metadata": {},
   "outputs": [],
   "source": [
    "res = business.groupby(['business_id']).apply(lambda x : x.sort_values(by = 'removed_aspects_3.1', ascending = False).head(3).reset_index(drop = True))"
   ]
  },
  {
   "cell_type": "code",
   "execution_count": null,
   "id": "7f5ac7a2",
   "metadata": {},
   "outputs": [],
   "source": [
    "columns = ['sentiment_x', 'sentiment_y']\n",
    "test = df[columns]"
   ]
  },
  {
   "cell_type": "code",
   "execution_count": 119,
   "id": "ba7e8454",
   "metadata": {},
   "outputs": [],
   "source": [
    "from scipy.stats import shapiro"
   ]
  },
  {
   "cell_type": "code",
   "execution_count": 123,
   "id": "0fa0171b",
   "metadata": {},
   "outputs": [],
   "source": [
    "groups = df.groupby(['community', 'business_id', 'removed_aspects_3'])"
   ]
  },
  {
   "cell_type": "code",
   "execution_count": 129,
   "id": "424d508d",
   "metadata": {},
   "outputs": [],
   "source": [
    "shap = []\n",
    "for x, y  in groups:\n",
    "    if len(y) >=3:\n",
    "        shap.append(shapiro(y['scores']))"
   ]
  },
  {
   "cell_type": "code",
   "execution_count": 134,
   "id": "40e52bf7",
   "metadata": {},
   "outputs": [
    {
     "data": {
      "text/plain": [
       "679344"
      ]
     },
     "execution_count": 134,
     "metadata": {},
     "output_type": "execute_result"
    }
   ],
   "source": [
    "len(shap)"
   ]
  },
  {
   "cell_type": "code",
   "execution_count": 133,
   "id": "b9f46624",
   "metadata": {},
   "outputs": [],
   "source": [
    "import csv\n",
    "\n",
    "with open(\"C:/Users/Bosia/Desktop/sen/mer/shapiro.csv\", \"w\") as f:\n",
    "    writer = csv.writer(f)\n",
    "    writer.writerow(shap)"
   ]
  },
  {
   "cell_type": "code",
   "execution_count": 142,
   "id": "90720330",
   "metadata": {},
   "outputs": [],
   "source": [
    "shap = pd.read_csv(\"C:/Users/Bosia/Desktop/sen/mer/shapiro.csv\",names=['shapiro'], header = None)"
   ]
  },
  {
   "cell_type": "code",
   "execution_count": 147,
   "id": "6ba09088",
   "metadata": {},
   "outputs": [],
   "source": [
    "shap.columns = ['statistics', 'pvalue']"
   ]
  },
  {
   "cell_type": "code",
   "execution_count": 168,
   "id": "eb56a64b",
   "metadata": {},
   "outputs": [
    {
     "data": {
      "text/plain": [
       "statistics    1037312\n",
       "pvalue        1037312\n",
       "dtype: int64"
      ]
     },
     "execution_count": 168,
     "metadata": {},
     "output_type": "execute_result"
    }
   ],
   "source": [
    "shap[shap['pvalue'] > 0.05].count()"
   ]
  },
  {
   "cell_type": "code",
   "execution_count": 159,
   "id": "ef0ac2d5",
   "metadata": {},
   "outputs": [
    {
     "data": {
      "text/html": [
       "<div>\n",
       "<style scoped>\n",
       "    .dataframe tbody tr th:only-of-type {\n",
       "        vertical-align: middle;\n",
       "    }\n",
       "\n",
       "    .dataframe tbody tr th {\n",
       "        vertical-align: top;\n",
       "    }\n",
       "\n",
       "    .dataframe thead th {\n",
       "        text-align: right;\n",
       "    }\n",
       "</style>\n",
       "<table border=\"1\" class=\"dataframe\">\n",
       "  <thead>\n",
       "    <tr style=\"text-align: right;\">\n",
       "      <th></th>\n",
       "      <th>statistics</th>\n",
       "      <th>pvalue</th>\n",
       "    </tr>\n",
       "  </thead>\n",
       "  <tbody>\n",
       "    <tr>\n",
       "      <th>0</th>\n",
       "      <td>1.0</td>\n",
       "      <td>1.0</td>\n",
       "    </tr>\n",
       "    <tr>\n",
       "      <th>1</th>\n",
       "      <td>1.0</td>\n",
       "      <td>1.0</td>\n",
       "    </tr>\n",
       "    <tr>\n",
       "      <th>2</th>\n",
       "      <td>1.0</td>\n",
       "      <td>1.0</td>\n",
       "    </tr>\n",
       "    <tr>\n",
       "      <th>3</th>\n",
       "      <td>1.0</td>\n",
       "      <td>1.0</td>\n",
       "    </tr>\n",
       "    <tr>\n",
       "      <th>4</th>\n",
       "      <td>1.0</td>\n",
       "      <td>1.0</td>\n",
       "    </tr>\n",
       "  </tbody>\n",
       "</table>\n",
       "</div>"
      ],
      "text/plain": [
       "   statistics  pvalue\n",
       "0         1.0     1.0\n",
       "1         1.0     1.0\n",
       "2         1.0     1.0\n",
       "3         1.0     1.0\n",
       "4         1.0     1.0"
      ]
     },
     "execution_count": 159,
     "metadata": {},
     "output_type": "execute_result"
    }
   ],
   "source": [
    "shap.head()"
   ]
  },
  {
   "cell_type": "code",
   "execution_count": 153,
   "id": "90422ff2",
   "metadata": {},
   "outputs": [],
   "source": [
    "shap['pvalue'] = [x.split(')')[0] for x in shap['pvalue']]"
   ]
  },
  {
   "cell_type": "code",
   "execution_count": 158,
   "id": "953a5fa7",
   "metadata": {},
   "outputs": [],
   "source": [
    "shap['statistics'] = shap['statistics'].astype(float)"
   ]
  },
  {
   "cell_type": "code",
   "execution_count": 145,
   "id": "35b4316b",
   "metadata": {},
   "outputs": [],
   "source": [
    "shap = shap['shapiro'].str.split(',', expand=True)"
   ]
  },
  {
   "cell_type": "code",
   "execution_count": 248,
   "id": "e60fde1d",
   "metadata": {},
   "outputs": [],
   "source": [
    "new_groups =[]\n",
    "for x, y  in groups:\n",
    "    if len(y) >=3:\n",
    "        new_groups.append(y)"
   ]
  },
  {
   "cell_type": "code",
   "execution_count": 249,
   "id": "a7d849e7",
   "metadata": {},
   "outputs": [
    {
     "name": "stderr",
     "output_type": "stream",
     "text": [
      "C:\\Users\\Bosia\\anaconda3\\lib\\site-packages\\scipy\\stats\\morestats.py:1678: UserWarning: Input data for shapiro has range zero. The results may not be accurate.\n",
      "  warnings.warn(\"Input data for shapiro has range zero. The results \"\n"
     ]
    }
   ],
   "source": [
    "new_groups2 =[]\n",
    "for y in new_groups:\n",
    "    if float(str(shapiro(y['scores'])).split('=')[-1].split(')')[0]) > 0.05:\n",
    "        new_groups2.append(y)"
   ]
  },
  {
   "cell_type": "code",
   "execution_count": 226,
   "id": "0a607fae",
   "metadata": {},
   "outputs": [
    {
     "name": "stderr",
     "output_type": "stream",
     "text": [
      "C:\\Users\\Bosia\\anaconda3\\lib\\site-packages\\scipy\\stats\\morestats.py:1681: UserWarning: p-value may not be accurate for N > 5000.\n",
      "  warnings.warn(\"p-value may not be accurate for N > 5000.\")\n"
     ]
    },
    {
     "data": {
      "text/plain": [
       "ShapiroResult(statistic=nan, pvalue=1.0)"
      ]
     },
     "execution_count": 226,
     "metadata": {},
     "output_type": "execute_result"
    }
   ],
   "source": [
    "shapiro(df['scores'])"
   ]
  },
  {
   "cell_type": "code",
   "execution_count": 233,
   "id": "79919fc3",
   "metadata": {},
   "outputs": [
    {
     "data": {
      "text/plain": [
       "(0.021416859812803123, 0.0)"
      ]
     },
     "execution_count": 233,
     "metadata": {},
     "output_type": "execute_result"
    }
   ],
   "source": [
    "df = df.dropna()\n",
    "pearsonr(nans['scores'], nans['friend_count'])"
   ]
  },
  {
   "cell_type": "code",
   "execution_count": 247,
   "id": "53407a89",
   "metadata": {},
   "outputs": [],
   "source": [
    "groups = df.groupby(['business_id', 'removed_aspects_3'])"
   ]
  },
  {
   "cell_type": "code",
   "execution_count": 253,
   "id": "0bb55602",
   "metadata": {},
   "outputs": [
    {
     "data": {
      "text/plain": [
       "1007753"
      ]
     },
     "execution_count": 253,
     "metadata": {},
     "output_type": "execute_result"
    }
   ],
   "source": [
    "len(groups)"
   ]
  },
  {
   "cell_type": "code",
   "execution_count": 224,
   "id": "23b432e3",
   "metadata": {},
   "outputs": [
    {
     "data": {
      "text/plain": [
       "numpy.int64"
      ]
     },
     "execution_count": 224,
     "metadata": {},
     "output_type": "execute_result"
    }
   ],
   "source": [
    "type(df.friend_count[0])"
   ]
  },
  {
   "cell_type": "code",
   "execution_count": 252,
   "id": "025f3c47",
   "metadata": {},
   "outputs": [
    {
     "data": {
      "text/plain": [
       "241992"
      ]
     },
     "execution_count": 252,
     "metadata": {},
     "output_type": "execute_result"
    }
   ],
   "source": [
    "len(new_groups2)"
   ]
  },
  {
   "cell_type": "code",
   "execution_count": 219,
   "id": "c1721069",
   "metadata": {},
   "outputs": [],
   "source": [
    "from scipy.stats import pearsonr\n",
    "from scipy.stats import spearmanr"
   ]
  },
  {
   "cell_type": "code",
   "execution_count": 255,
   "id": "16244252",
   "metadata": {},
   "outputs": [
    {
     "name": "stderr",
     "output_type": "stream",
     "text": [
      "C:\\Users\\Bosia\\anaconda3\\lib\\site-packages\\scipy\\stats\\stats.py:3913: PearsonRConstantInputWarning: An input array is constant; the correlation coefficent is not defined.\n",
      "  warnings.warn(PearsonRConstantInputWarning())\n",
      "C:\\Users\\Bosia\\anaconda3\\lib\\site-packages\\scipy\\stats\\stats.py:3943: PearsonRNearConstantInputWarning: An input array is nearly constant; the computed correlation coefficent may be inaccurate.\n",
      "  warnings.warn(PearsonRNearConstantInputWarning())\n"
     ]
    }
   ],
   "source": [
    "comunities_sen = []\n",
    "for x in new_groups2:\n",
    "    comunities_sen.append(pearsonr(x['scores'], x['Average of sentiment score']))"
   ]
  },
  {
   "cell_type": "code",
   "execution_count": 258,
   "id": "afe0ba3a",
   "metadata": {},
   "outputs": [],
   "source": [
    "import csv\n",
    "\n",
    "with open(\"C:/Users/Bosia/Desktop/sen/mer/comunities_sen.csv\", \"w\") as f:\n",
    "    writer = csv.writer(f)\n",
    "    writer.writerow(comunities_sen)"
   ]
  },
  {
   "cell_type": "code",
   "execution_count": 216,
   "id": "cb6a229b",
   "metadata": {},
   "outputs": [],
   "source": [
    "sen_reviews = []\n",
    "for x in new_groups2:\n",
    "    sen_reviews .append(spearmanr(x['scores'], x['review_count']))"
   ]
  },
  {
   "cell_type": "code",
   "execution_count": 271,
   "id": "c7392946",
   "metadata": {},
   "outputs": [],
   "source": [
    "com = pd.read_csv(\"C:/Users/Bosia/Desktop/sen/mer/comunities_sen.csv\", header = None)"
   ]
  },
  {
   "cell_type": "code",
   "execution_count": 272,
   "id": "2a7bba57",
   "metadata": {},
   "outputs": [],
   "source": [
    "com = com.transpose()"
   ]
  },
  {
   "cell_type": "code",
   "execution_count": 273,
   "id": "443f025b",
   "metadata": {},
   "outputs": [],
   "source": [
    "com.columns =['temp']"
   ]
  },
  {
   "cell_type": "code",
   "execution_count": 286,
   "id": "d59c0941",
   "metadata": {},
   "outputs": [
    {
     "data": {
      "text/plain": [
       "str"
      ]
     },
     "execution_count": 286,
     "metadata": {},
     "output_type": "execute_result"
    }
   ],
   "source": [
    "type(com['pvalue'][0])"
   ]
  },
  {
   "cell_type": "code",
   "execution_count": 278,
   "id": "8971ee1f",
   "metadata": {},
   "outputs": [],
   "source": [
    "com.columns =['corr', 'pvalue']"
   ]
  },
  {
   "cell_type": "code",
   "execution_count": 284,
   "id": "6839c58e",
   "metadata": {},
   "outputs": [
    {
     "name": "stderr",
     "output_type": "stream",
     "text": [
      "<ipython-input-284-401860cfe33e>:1: FutureWarning: The default value of regex will change from True to False in a future version. In addition, single character regular expressions will*not* be treated as literal strings when regex=True.\n",
      "  com['pvalue'] = com['pvalue'].str.replace(')', '')\n"
     ]
    }
   ],
   "source": [
    "com['pvalue'] = com['pvalue'].str.replace(')', '')"
   ]
  },
  {
   "cell_type": "code",
   "execution_count": 293,
   "id": "a9514115",
   "metadata": {},
   "outputs": [],
   "source": [
    "com['corr'] = com['corr'].astype(float)"
   ]
  },
  {
   "cell_type": "code",
   "execution_count": 295,
   "id": "d4e7203d",
   "metadata": {},
   "outputs": [],
   "source": [
    "com = com.dropna()"
   ]
  },
  {
   "cell_type": "code",
   "execution_count": 308,
   "id": "2cd813a8",
   "metadata": {},
   "outputs": [
    {
     "data": {
      "text/plain": [
       "corr      58167\n",
       "pvalue    58167\n",
       "dtype: int64"
      ]
     },
     "execution_count": 308,
     "metadata": {},
     "output_type": "execute_result"
    }
   ],
   "source": [
    "com.loc[(com['corr'] < 0)].count()"
   ]
  },
  {
   "cell_type": "code",
   "execution_count": 6,
   "id": "6b02d147",
   "metadata": {},
   "outputs": [],
   "source": [
    "df = pd.read_csv(\"C:/Users/Bosia/Desktop/processed/new/review0_clean.csv\")"
   ]
  },
  {
   "cell_type": "code",
   "execution_count": 8,
   "id": "49a27016",
   "metadata": {},
   "outputs": [],
   "source": [
    "tags = [ast.literal_eval(x) for x in df['text_tagged']]"
   ]
  },
  {
   "cell_type": "code",
   "execution_count": 55,
   "id": "7a112b68",
   "metadata": {},
   "outputs": [],
   "source": [
    "tag_list\n",
    "for a in range(len(tags)):\n",
    "    for b in range(len(tags[a])):\n",
    "        for c in range(len(tags[a][b])):\n",
    "            tag_list.append(tags[a][b][c][1])"
   ]
  },
  {
   "cell_type": "code",
   "execution_count": 107,
   "id": "4dbbd4e5",
   "metadata": {},
   "outputs": [
    {
     "data": {
      "text/plain": [
       "3913"
      ]
     },
     "execution_count": 107,
     "metadata": {},
     "output_type": "execute_result"
    }
   ],
   "source": [
    "tag_list.count('VBN')"
   ]
  },
  {
   "cell_type": "code",
   "execution_count": 67,
   "id": "bdda26da",
   "metadata": {},
   "outputs": [],
   "source": [
    "myset = list(set(tag_list))"
   ]
  },
  {
   "cell_type": "code",
   "execution_count": 34,
   "id": "eea76099",
   "metadata": {},
   "outputs": [],
   "source": [
    "scores = pd.read_csv(\"C:/Users/Bosia/Desktop/for graphs/scoresss.csv\")"
   ]
  },
  {
   "cell_type": "code",
   "execution_count": 35,
   "id": "1a306d84",
   "metadata": {},
   "outputs": [],
   "source": [
    "scores = scores.sample(frac=1).reset_index(drop=True)"
   ]
  },
  {
   "cell_type": "code",
   "execution_count": 36,
   "id": "4f2f6022",
   "metadata": {},
   "outputs": [
    {
     "data": {
      "text/html": [
       "<div>\n",
       "<style scoped>\n",
       "    .dataframe tbody tr th:only-of-type {\n",
       "        vertical-align: middle;\n",
       "    }\n",
       "\n",
       "    .dataframe tbody tr th {\n",
       "        vertical-align: top;\n",
       "    }\n",
       "\n",
       "    .dataframe thead th {\n",
       "        text-align: right;\n",
       "    }\n",
       "</style>\n",
       "<table border=\"1\" class=\"dataframe\">\n",
       "  <thead>\n",
       "    <tr style=\"text-align: right;\">\n",
       "      <th></th>\n",
       "      <th>Unnamed: 0</th>\n",
       "      <th>business_id</th>\n",
       "      <th>aspects</th>\n",
       "      <th>sentiment score</th>\n",
       "      <th>community</th>\n",
       "    </tr>\n",
       "  </thead>\n",
       "  <tbody>\n",
       "    <tr>\n",
       "      <th>0</th>\n",
       "      <td>244859</td>\n",
       "      <td>cs6HfZNykLVitm09jWFqWg</td>\n",
       "      <td>FOOD</td>\n",
       "      <td>0.00</td>\n",
       "      <td>112618</td>\n",
       "    </tr>\n",
       "    <tr>\n",
       "      <th>1</th>\n",
       "      <td>246737</td>\n",
       "      <td>cs6HfZNykLVitm09jWFqWg</td>\n",
       "      <td>FOOD</td>\n",
       "      <td>-100.00</td>\n",
       "      <td>70491</td>\n",
       "    </tr>\n",
       "    <tr>\n",
       "      <th>2</th>\n",
       "      <td>246991</td>\n",
       "      <td>cs6HfZNykLVitm09jWFqWg</td>\n",
       "      <td>FOOD</td>\n",
       "      <td>-16.67</td>\n",
       "      <td>106604</td>\n",
       "    </tr>\n",
       "    <tr>\n",
       "      <th>3</th>\n",
       "      <td>244196</td>\n",
       "      <td>cs6HfZNykLVitm09jWFqWg</td>\n",
       "      <td>FOOD</td>\n",
       "      <td>-100.00</td>\n",
       "      <td>133796</td>\n",
       "    </tr>\n",
       "    <tr>\n",
       "      <th>4</th>\n",
       "      <td>244923</td>\n",
       "      <td>cs6HfZNykLVitm09jWFqWg</td>\n",
       "      <td>FOOD</td>\n",
       "      <td>-33.34</td>\n",
       "      <td>105034</td>\n",
       "    </tr>\n",
       "    <tr>\n",
       "      <th>...</th>\n",
       "      <td>...</td>\n",
       "      <td>...</td>\n",
       "      <td>...</td>\n",
       "      <td>...</td>\n",
       "      <td>...</td>\n",
       "    </tr>\n",
       "    <tr>\n",
       "      <th>1475</th>\n",
       "      <td>244156</td>\n",
       "      <td>cs6HfZNykLVitm09jWFqWg</td>\n",
       "      <td>FOOD</td>\n",
       "      <td>28.57</td>\n",
       "      <td>106604</td>\n",
       "    </tr>\n",
       "    <tr>\n",
       "      <th>1476</th>\n",
       "      <td>244444</td>\n",
       "      <td>cs6HfZNykLVitm09jWFqWg</td>\n",
       "      <td>FOOD</td>\n",
       "      <td>100.00</td>\n",
       "      <td>106604</td>\n",
       "    </tr>\n",
       "    <tr>\n",
       "      <th>1477</th>\n",
       "      <td>246141</td>\n",
       "      <td>cs6HfZNykLVitm09jWFqWg</td>\n",
       "      <td>FOOD</td>\n",
       "      <td>62.50</td>\n",
       "      <td>112618</td>\n",
       "    </tr>\n",
       "    <tr>\n",
       "      <th>1478</th>\n",
       "      <td>245016</td>\n",
       "      <td>cs6HfZNykLVitm09jWFqWg</td>\n",
       "      <td>FOOD</td>\n",
       "      <td>-100.00</td>\n",
       "      <td>85284</td>\n",
       "    </tr>\n",
       "    <tr>\n",
       "      <th>1479</th>\n",
       "      <td>246120</td>\n",
       "      <td>cs6HfZNykLVitm09jWFqWg</td>\n",
       "      <td>FOOD</td>\n",
       "      <td>-100.00</td>\n",
       "      <td>105034</td>\n",
       "    </tr>\n",
       "  </tbody>\n",
       "</table>\n",
       "<p>1480 rows × 5 columns</p>\n",
       "</div>"
      ],
      "text/plain": [
       "      Unnamed: 0             business_id aspects  sentiment score  community\n",
       "0         244859  cs6HfZNykLVitm09jWFqWg    FOOD             0.00     112618\n",
       "1         246737  cs6HfZNykLVitm09jWFqWg    FOOD          -100.00      70491\n",
       "2         246991  cs6HfZNykLVitm09jWFqWg    FOOD           -16.67     106604\n",
       "3         244196  cs6HfZNykLVitm09jWFqWg    FOOD          -100.00     133796\n",
       "4         244923  cs6HfZNykLVitm09jWFqWg    FOOD           -33.34     105034\n",
       "...          ...                     ...     ...              ...        ...\n",
       "1475      244156  cs6HfZNykLVitm09jWFqWg    FOOD            28.57     106604\n",
       "1476      244444  cs6HfZNykLVitm09jWFqWg    FOOD           100.00     106604\n",
       "1477      246141  cs6HfZNykLVitm09jWFqWg    FOOD            62.50     112618\n",
       "1478      245016  cs6HfZNykLVitm09jWFqWg    FOOD          -100.00      85284\n",
       "1479      246120  cs6HfZNykLVitm09jWFqWg    FOOD          -100.00     105034\n",
       "\n",
       "[1480 rows x 5 columns]"
      ]
     },
     "execution_count": 36,
     "metadata": {},
     "output_type": "execute_result"
    }
   ],
   "source": [
    "scores"
   ]
  },
  {
   "cell_type": "code",
   "execution_count": 37,
   "id": "fbb43e30",
   "metadata": {},
   "outputs": [
    {
     "data": {
      "text/plain": [
       "<AxesSubplot:ylabel='sentiment score'>"
      ]
     },
     "execution_count": 37,
     "metadata": {},
     "output_type": "execute_result"
    },
    {
     "data": {
      "image/png": "[encoded data removed]",
      "text/plain": [
       "<Figure size 432x288 with 1 Axes>"
      ]
     },
     "metadata": {
      "needs_background": "light"
     },
     "output_type": "display_data"
    }
   ],
   "source": [
    "from sklearn.preprocessing import LabelEncoder\n",
    "import seaborn as sns\n",
    "x=range(len(scores))\n",
    "sns.scatterplot(data=scores, x=x, y=\"sentiment score\")"
   ]
  },
  {
   "cell_type": "code",
   "execution_count": 38,
   "id": "f9451022",
   "metadata": {},
   "outputs": [],
   "source": [
    "scores2 = scores.loc[(scores['community'] == 106604)]"
   ]
  },
  {
   "cell_type": "code",
   "execution_count": 39,
   "id": "79f62450",
   "metadata": {},
   "outputs": [
    {
     "data": {
      "text/plain": [
       "<AxesSubplot:ylabel='sentiment score'>"
      ]
     },
     "execution_count": 39,
     "metadata": {},
     "output_type": "execute_result"
    },
    {
     "data": {
      "image/png": "[encoded data removed]",
      "text/plain": [
       "<Figure size 432x288 with 1 Axes>"
      ]
     },
     "metadata": {
      "needs_background": "light"
     },
     "output_type": "display_data"
    }
   ],
   "source": [
    "x=range(len(scores2))\n",
    "sns.scatterplot(data=scores2, x=x, y=\"sentiment score\")"
   ]
  },
  {
   "cell_type": "code",
   "execution_count": 40,
   "id": "0895744c",
   "metadata": {},
   "outputs": [
    {
     "data": {
      "text/plain": [
       "58.988039383044814"
      ]
     },
     "execution_count": 40,
     "metadata": {},
     "output_type": "execute_result"
    }
   ],
   "source": [
    "scores[\"sentiment score\"].std()"
   ]
  },
  {
   "cell_type": "code",
   "execution_count": 41,
   "id": "3c0287c6",
   "metadata": {},
   "outputs": [
    {
     "data": {
      "text/plain": [
       "55.69047446823122"
      ]
     },
     "execution_count": 41,
     "metadata": {},
     "output_type": "execute_result"
    }
   ],
   "source": [
    "scores2[\"sentiment score\"].std()"
   ]
  },
  {
   "cell_type": "code",
   "execution_count": 44,
   "id": "fab5c60a",
   "metadata": {},
   "outputs": [],
   "source": [
    "one = df.groupby(['community', 'business_id', 'removed_aspects_3'])['scores'].std()"
   ]
  },
  {
   "cell_type": "code",
   "execution_count": 53,
   "id": "61fdafe0",
   "metadata": {},
   "outputs": [],
   "source": [
    "one = one.to_frame()"
   ]
  },
  {
   "cell_type": "code",
   "execution_count": 46,
   "id": "2ed7a3c0",
   "metadata": {},
   "outputs": [],
   "source": [
    "two = df.groupby(['business_id', 'removed_aspects_3'])['scores'].std()"
   ]
  },
  {
   "cell_type": "code",
   "execution_count": 50,
   "id": "a7aa91ca",
   "metadata": {},
   "outputs": [],
   "source": [
    "two = two.to_frame()"
   ]
  },
  {
   "cell_type": "code",
   "execution_count": 65,
   "id": "fdff8d25",
   "metadata": {},
   "outputs": [
    {
     "data": {
      "text/html": [
       "<div>\n",
       "<style scoped>\n",
       "    .dataframe tbody tr th:only-of-type {\n",
       "        vertical-align: middle;\n",
       "    }\n",
       "\n",
       "    .dataframe tbody tr th {\n",
       "        vertical-align: top;\n",
       "    }\n",
       "\n",
       "    .dataframe thead th {\n",
       "        text-align: right;\n",
       "    }\n",
       "</style>\n",
       "<table border=\"1\" class=\"dataframe\">\n",
       "  <thead>\n",
       "    <tr style=\"text-align: right;\">\n",
       "      <th></th>\n",
       "      <th></th>\n",
       "      <th>scores_x</th>\n",
       "      <th>scores_y</th>\n",
       "      <th>diff</th>\n",
       "    </tr>\n",
       "    <tr>\n",
       "      <th>business_id</th>\n",
       "      <th>removed_aspects_3</th>\n",
       "      <th></th>\n",
       "      <th></th>\n",
       "      <th></th>\n",
       "    </tr>\n",
       "  </thead>\n",
       "  <tbody>\n",
       "    <tr>\n",
       "      <th rowspan=\"5\" valign=\"top\">DZm67Anqn1IQTB9iGvw4Fw</th>\n",
       "      <th>BAR</th>\n",
       "      <td>10.104556</td>\n",
       "      <td>50.672975</td>\n",
       "      <td>40.568419</td>\n",
       "    </tr>\n",
       "    <tr>\n",
       "      <th>BAR</th>\n",
       "      <td>47.158428</td>\n",
       "      <td>50.672975</td>\n",
       "      <td>3.514547</td>\n",
       "    </tr>\n",
       "    <tr>\n",
       "      <th>BAR</th>\n",
       "      <td>29.190298</td>\n",
       "      <td>50.672975</td>\n",
       "      <td>21.482678</td>\n",
       "    </tr>\n",
       "    <tr>\n",
       "      <th>BAR</th>\n",
       "      <td>17.677670</td>\n",
       "      <td>50.672975</td>\n",
       "      <td>32.995306</td>\n",
       "    </tr>\n",
       "    <tr>\n",
       "      <th>BAR</th>\n",
       "      <td>33.672425</td>\n",
       "      <td>50.672975</td>\n",
       "      <td>17.000550</td>\n",
       "    </tr>\n",
       "    <tr>\n",
       "      <th>...</th>\n",
       "      <th>...</th>\n",
       "      <td>...</td>\n",
       "      <td>...</td>\n",
       "      <td>...</td>\n",
       "    </tr>\n",
       "    <tr>\n",
       "      <th rowspan=\"2\" valign=\"top\">S80D5j0ZORoWc3llFZskFw</th>\n",
       "      <th>AC</th>\n",
       "      <td>0.007071</td>\n",
       "      <td>0.007071</td>\n",
       "      <td>0.000000</td>\n",
       "    </tr>\n",
       "    <tr>\n",
       "      <th>HOT</th>\n",
       "      <td>14.460334</td>\n",
       "      <td>14.460334</td>\n",
       "      <td>0.000000</td>\n",
       "    </tr>\n",
       "    <tr>\n",
       "      <th>seC9cfU7It8mbczK442HAw</th>\n",
       "      <th>WORD</th>\n",
       "      <td>9.624429</td>\n",
       "      <td>9.624429</td>\n",
       "      <td>0.000000</td>\n",
       "    </tr>\n",
       "    <tr>\n",
       "      <th>sOCzxcEo5v1yT-OzBriekA</th>\n",
       "      <th>CUPCAKE</th>\n",
       "      <td>7.470936</td>\n",
       "      <td>7.470936</td>\n",
       "      <td>0.000000</td>\n",
       "    </tr>\n",
       "    <tr>\n",
       "      <th>U7spOEyi0TevjuhF-e-9PQ</th>\n",
       "      <th>GUEST</th>\n",
       "      <td>17.320508</td>\n",
       "      <td>17.320508</td>\n",
       "      <td>0.000000</td>\n",
       "    </tr>\n",
       "  </tbody>\n",
       "</table>\n",
       "<p>637670 rows × 3 columns</p>\n",
       "</div>"
      ],
      "text/plain": [
       "                                           scores_x   scores_y       diff\n",
       "business_id            removed_aspects_3                                 \n",
       "DZm67Anqn1IQTB9iGvw4Fw BAR                10.104556  50.672975  40.568419\n",
       "                       BAR                47.158428  50.672975   3.514547\n",
       "                       BAR                29.190298  50.672975  21.482678\n",
       "                       BAR                17.677670  50.672975  32.995306\n",
       "                       BAR                33.672425  50.672975  17.000550\n",
       "...                                             ...        ...        ...\n",
       "S80D5j0ZORoWc3llFZskFw AC                  0.007071   0.007071   0.000000\n",
       "                       HOT                14.460334  14.460334   0.000000\n",
       "seC9cfU7It8mbczK442HAw WORD                9.624429   9.624429   0.000000\n",
       "sOCzxcEo5v1yT-OzBriekA CUPCAKE             7.470936   7.470936   0.000000\n",
       "U7spOEyi0TevjuhF-e-9PQ GUEST              17.320508  17.320508   0.000000\n",
       "\n",
       "[637670 rows x 3 columns]"
      ]
     },
     "execution_count": 65,
     "metadata": {},
     "output_type": "execute_result"
    }
   ],
   "source": [
    "test"
   ]
  },
  {
   "cell_type": "code",
   "execution_count": null,
   "id": "9f9c53f7",
   "metadata": {},
   "outputs": [],
   "source": [
    "diff =[]\n",
    "for x in "
   ]
  },
  {
   "cell_type": "code",
   "execution_count": 79,
   "id": "aa31c520",
   "metadata": {},
   "outputs": [
    {
     "data": {
      "text/html": [
       "<div>\n",
       "<style scoped>\n",
       "    .dataframe tbody tr th:only-of-type {\n",
       "        vertical-align: middle;\n",
       "    }\n",
       "\n",
       "    .dataframe tbody tr th {\n",
       "        vertical-align: top;\n",
       "    }\n",
       "\n",
       "    .dataframe thead th {\n",
       "        text-align: right;\n",
       "    }\n",
       "</style>\n",
       "<table border=\"1\" class=\"dataframe\">\n",
       "  <thead>\n",
       "    <tr style=\"text-align: right;\">\n",
       "      <th></th>\n",
       "      <th>Unnamed: 0</th>\n",
       "      <th>Unnamed: 0.1</th>\n",
       "      <th>Unnamed: 0.1.1</th>\n",
       "      <th>review_id</th>\n",
       "      <th>user_id</th>\n",
       "      <th>business_id</th>\n",
       "      <th>date</th>\n",
       "      <th>removed_aspects_3</th>\n",
       "      <th>new</th>\n",
       "      <th>pos</th>\n",
       "      <th>...</th>\n",
       "      <th>neg</th>\n",
       "      <th>scores</th>\n",
       "      <th>_id</th>\n",
       "      <th>_labels</th>\n",
       "      <th>User_name</th>\n",
       "      <th>community</th>\n",
       "      <th>_start</th>\n",
       "      <th>_end</th>\n",
       "      <th>_type</th>\n",
       "      <th>size</th>\n",
       "    </tr>\n",
       "  </thead>\n",
       "  <tbody>\n",
       "    <tr>\n",
       "      <th>471</th>\n",
       "      <td>36</td>\n",
       "      <td>38112</td>\n",
       "      <td>38112</td>\n",
       "      <td>-YU-foLNccHc1jAYg9Yr3g</td>\n",
       "      <td>Tx1h_ZJbnvCh_AbRnPfLfg</td>\n",
       "      <td>--UNNdnHRhsyFUbDgumdtQ</td>\n",
       "      <td>2011-07-16 01:48:54</td>\n",
       "      <td>WEEK</td>\n",
       "      <td>[[0.0, 0.0, 100.0]]</td>\n",
       "      <td>100.00</td>\n",
       "      <td>...</td>\n",
       "      <td>0.00</td>\n",
       "      <td>100.00</td>\n",
       "      <td>416</td>\n",
       "      <td>:USERS</td>\n",
       "      <td>Amber</td>\n",
       "      <td>150968</td>\n",
       "      <td>NaN</td>\n",
       "      <td>NaN</td>\n",
       "      <td>NaN</td>\n",
       "      <td>SMALL</td>\n",
       "    </tr>\n",
       "    <tr>\n",
       "      <th>472</th>\n",
       "      <td>37</td>\n",
       "      <td>38283</td>\n",
       "      <td>38283</td>\n",
       "      <td>p5ECPw8OxmSjJ2u8rLhCPQ</td>\n",
       "      <td>diBwz2-P0NWytceqTyhSeQ</td>\n",
       "      <td>--UNNdnHRhsyFUbDgumdtQ</td>\n",
       "      <td>2018-07-31 06:27:48</td>\n",
       "      <td>DISH</td>\n",
       "      <td>[[25.0, 0.0, 75.0], [50.0, 0.0, 50.0], [0.0, 0...</td>\n",
       "      <td>75.00</td>\n",
       "      <td>...</td>\n",
       "      <td>25.00</td>\n",
       "      <td>50.00</td>\n",
       "      <td>1120</td>\n",
       "      <td>:USERS</td>\n",
       "      <td>K</td>\n",
       "      <td>92871</td>\n",
       "      <td>NaN</td>\n",
       "      <td>NaN</td>\n",
       "      <td>NaN</td>\n",
       "      <td>SMALL</td>\n",
       "    </tr>\n",
       "    <tr>\n",
       "      <th>473</th>\n",
       "      <td>37</td>\n",
       "      <td>38283</td>\n",
       "      <td>38283</td>\n",
       "      <td>p5ECPw8OxmSjJ2u8rLhCPQ</td>\n",
       "      <td>diBwz2-P0NWytceqTyhSeQ</td>\n",
       "      <td>--UNNdnHRhsyFUbDgumdtQ</td>\n",
       "      <td>2018-07-31 06:27:48</td>\n",
       "      <td>MEAL</td>\n",
       "      <td>[[25.0, 0.0, 75.0], [50.0, 0.0, 50.0], [0.0, 0...</td>\n",
       "      <td>50.00</td>\n",
       "      <td>...</td>\n",
       "      <td>50.00</td>\n",
       "      <td>-0.00</td>\n",
       "      <td>1120</td>\n",
       "      <td>:USERS</td>\n",
       "      <td>K</td>\n",
       "      <td>92871</td>\n",
       "      <td>NaN</td>\n",
       "      <td>NaN</td>\n",
       "      <td>NaN</td>\n",
       "      <td>SMALL</td>\n",
       "    </tr>\n",
       "    <tr>\n",
       "      <th>474</th>\n",
       "      <td>37</td>\n",
       "      <td>38283</td>\n",
       "      <td>38283</td>\n",
       "      <td>p5ECPw8OxmSjJ2u8rLhCPQ</td>\n",
       "      <td>diBwz2-P0NWytceqTyhSeQ</td>\n",
       "      <td>--UNNdnHRhsyFUbDgumdtQ</td>\n",
       "      <td>2018-07-31 06:27:48</td>\n",
       "      <td>COUNTER</td>\n",
       "      <td>[[25.0, 0.0, 75.0], [50.0, 0.0, 50.0], [0.0, 0...</td>\n",
       "      <td>100.00</td>\n",
       "      <td>...</td>\n",
       "      <td>0.00</td>\n",
       "      <td>100.00</td>\n",
       "      <td>1120</td>\n",
       "      <td>:USERS</td>\n",
       "      <td>K</td>\n",
       "      <td>92871</td>\n",
       "      <td>NaN</td>\n",
       "      <td>NaN</td>\n",
       "      <td>NaN</td>\n",
       "      <td>SMALL</td>\n",
       "    </tr>\n",
       "    <tr>\n",
       "      <th>475</th>\n",
       "      <td>37</td>\n",
       "      <td>38283</td>\n",
       "      <td>38283</td>\n",
       "      <td>p5ECPw8OxmSjJ2u8rLhCPQ</td>\n",
       "      <td>diBwz2-P0NWytceqTyhSeQ</td>\n",
       "      <td>--UNNdnHRhsyFUbDgumdtQ</td>\n",
       "      <td>2018-07-31 06:27:48</td>\n",
       "      <td>MAGIC</td>\n",
       "      <td>[[25.0, 0.0, 75.0], [50.0, 0.0, 50.0], [0.0, 0...</td>\n",
       "      <td>100.00</td>\n",
       "      <td>...</td>\n",
       "      <td>0.00</td>\n",
       "      <td>100.00</td>\n",
       "      <td>1120</td>\n",
       "      <td>:USERS</td>\n",
       "      <td>K</td>\n",
       "      <td>92871</td>\n",
       "      <td>NaN</td>\n",
       "      <td>NaN</td>\n",
       "      <td>NaN</td>\n",
       "      <td>SMALL</td>\n",
       "    </tr>\n",
       "    <tr>\n",
       "      <th>...</th>\n",
       "      <td>...</td>\n",
       "      <td>...</td>\n",
       "      <td>...</td>\n",
       "      <td>...</td>\n",
       "      <td>...</td>\n",
       "      <td>...</td>\n",
       "      <td>...</td>\n",
       "      <td>...</td>\n",
       "      <td>...</td>\n",
       "      <td>...</td>\n",
       "      <td>...</td>\n",
       "      <td>...</td>\n",
       "      <td>...</td>\n",
       "      <td>...</td>\n",
       "      <td>...</td>\n",
       "      <td>...</td>\n",
       "      <td>...</td>\n",
       "      <td>...</td>\n",
       "      <td>...</td>\n",
       "      <td>...</td>\n",
       "      <td>...</td>\n",
       "    </tr>\n",
       "    <tr>\n",
       "      <th>8057013</th>\n",
       "      <td>870873</td>\n",
       "      <td>1604053</td>\n",
       "      <td>1604053</td>\n",
       "      <td>D0MH_55SwBifbB-ukZ_bAA</td>\n",
       "      <td>GyXfH0JaZ0TGUeVR39s6bQ</td>\n",
       "      <td>_zhfZvRPIfqEKM7YoIurgQ</td>\n",
       "      <td>2018-06-07 23:38:51</td>\n",
       "      <td>BABY</td>\n",
       "      <td>[[25.0, 12.5, 62.5], [20.0, 20.0, 60.0], [33.3...</td>\n",
       "      <td>66.67</td>\n",
       "      <td>...</td>\n",
       "      <td>33.33</td>\n",
       "      <td>33.34</td>\n",
       "      <td>133808</td>\n",
       "      <td>:USERS</td>\n",
       "      <td>Sapirbeck</td>\n",
       "      <td>89433</td>\n",
       "      <td>NaN</td>\n",
       "      <td>NaN</td>\n",
       "      <td>NaN</td>\n",
       "      <td>SMALL</td>\n",
       "    </tr>\n",
       "    <tr>\n",
       "      <th>8057014</th>\n",
       "      <td>870874</td>\n",
       "      <td>1634614</td>\n",
       "      <td>1634614</td>\n",
       "      <td>D0MH_55SwBifbB-ukZ_bAA</td>\n",
       "      <td>GyXfH0JaZ0TGUeVR39s6bQ</td>\n",
       "      <td>_zhfZvRPIfqEKM7YoIurgQ</td>\n",
       "      <td>2018-06-07 23:38:51</td>\n",
       "      <td>DELIVERY</td>\n",
       "      <td>[[25.0, 12.5, 62.5], [20.0, 20.0, 60.0], [33.3...</td>\n",
       "      <td>62.50</td>\n",
       "      <td>...</td>\n",
       "      <td>25.00</td>\n",
       "      <td>37.50</td>\n",
       "      <td>133808</td>\n",
       "      <td>:USERS</td>\n",
       "      <td>Sapirbeck</td>\n",
       "      <td>89433</td>\n",
       "      <td>NaN</td>\n",
       "      <td>NaN</td>\n",
       "      <td>NaN</td>\n",
       "      <td>SMALL</td>\n",
       "    </tr>\n",
       "    <tr>\n",
       "      <th>8057015</th>\n",
       "      <td>870874</td>\n",
       "      <td>1634614</td>\n",
       "      <td>1634614</td>\n",
       "      <td>D0MH_55SwBifbB-ukZ_bAA</td>\n",
       "      <td>GyXfH0JaZ0TGUeVR39s6bQ</td>\n",
       "      <td>_zhfZvRPIfqEKM7YoIurgQ</td>\n",
       "      <td>2018-06-07 23:38:51</td>\n",
       "      <td>BELL</td>\n",
       "      <td>[[25.0, 12.5, 62.5], [20.0, 20.0, 60.0], [33.3...</td>\n",
       "      <td>60.00</td>\n",
       "      <td>...</td>\n",
       "      <td>20.00</td>\n",
       "      <td>40.00</td>\n",
       "      <td>133808</td>\n",
       "      <td>:USERS</td>\n",
       "      <td>Sapirbeck</td>\n",
       "      <td>89433</td>\n",
       "      <td>NaN</td>\n",
       "      <td>NaN</td>\n",
       "      <td>NaN</td>\n",
       "      <td>SMALL</td>\n",
       "    </tr>\n",
       "    <tr>\n",
       "      <th>8057016</th>\n",
       "      <td>870874</td>\n",
       "      <td>1634614</td>\n",
       "      <td>1634614</td>\n",
       "      <td>D0MH_55SwBifbB-ukZ_bAA</td>\n",
       "      <td>GyXfH0JaZ0TGUeVR39s6bQ</td>\n",
       "      <td>_zhfZvRPIfqEKM7YoIurgQ</td>\n",
       "      <td>2018-06-07 23:38:51</td>\n",
       "      <td>GUY</td>\n",
       "      <td>[[25.0, 12.5, 62.5], [20.0, 20.0, 60.0], [33.3...</td>\n",
       "      <td>66.67</td>\n",
       "      <td>...</td>\n",
       "      <td>33.33</td>\n",
       "      <td>33.34</td>\n",
       "      <td>133808</td>\n",
       "      <td>:USERS</td>\n",
       "      <td>Sapirbeck</td>\n",
       "      <td>89433</td>\n",
       "      <td>NaN</td>\n",
       "      <td>NaN</td>\n",
       "      <td>NaN</td>\n",
       "      <td>SMALL</td>\n",
       "    </tr>\n",
       "    <tr>\n",
       "      <th>8057017</th>\n",
       "      <td>870874</td>\n",
       "      <td>1634614</td>\n",
       "      <td>1634614</td>\n",
       "      <td>D0MH_55SwBifbB-ukZ_bAA</td>\n",
       "      <td>GyXfH0JaZ0TGUeVR39s6bQ</td>\n",
       "      <td>_zhfZvRPIfqEKM7YoIurgQ</td>\n",
       "      <td>2018-06-07 23:38:51</td>\n",
       "      <td>BABY</td>\n",
       "      <td>[[25.0, 12.5, 62.5], [20.0, 20.0, 60.0], [33.3...</td>\n",
       "      <td>66.67</td>\n",
       "      <td>...</td>\n",
       "      <td>33.33</td>\n",
       "      <td>33.34</td>\n",
       "      <td>133808</td>\n",
       "      <td>:USERS</td>\n",
       "      <td>Sapirbeck</td>\n",
       "      <td>89433</td>\n",
       "      <td>NaN</td>\n",
       "      <td>NaN</td>\n",
       "      <td>NaN</td>\n",
       "      <td>SMALL</td>\n",
       "    </tr>\n",
       "  </tbody>\n",
       "</table>\n",
       "<p>392139 rows × 21 columns</p>\n",
       "</div>"
      ],
      "text/plain": [
       "         Unnamed: 0  Unnamed: 0.1  Unnamed: 0.1.1               review_id  \\\n",
       "471              36         38112           38112  -YU-foLNccHc1jAYg9Yr3g   \n",
       "472              37         38283           38283  p5ECPw8OxmSjJ2u8rLhCPQ   \n",
       "473              37         38283           38283  p5ECPw8OxmSjJ2u8rLhCPQ   \n",
       "474              37         38283           38283  p5ECPw8OxmSjJ2u8rLhCPQ   \n",
       "475              37         38283           38283  p5ECPw8OxmSjJ2u8rLhCPQ   \n",
       "...             ...           ...             ...                     ...   \n",
       "8057013      870873       1604053         1604053  D0MH_55SwBifbB-ukZ_bAA   \n",
       "8057014      870874       1634614         1634614  D0MH_55SwBifbB-ukZ_bAA   \n",
       "8057015      870874       1634614         1634614  D0MH_55SwBifbB-ukZ_bAA   \n",
       "8057016      870874       1634614         1634614  D0MH_55SwBifbB-ukZ_bAA   \n",
       "8057017      870874       1634614         1634614  D0MH_55SwBifbB-ukZ_bAA   \n",
       "\n",
       "                        user_id             business_id                 date  \\\n",
       "471      Tx1h_ZJbnvCh_AbRnPfLfg  --UNNdnHRhsyFUbDgumdtQ  2011-07-16 01:48:54   \n",
       "472      diBwz2-P0NWytceqTyhSeQ  --UNNdnHRhsyFUbDgumdtQ  2018-07-31 06:27:48   \n",
       "473      diBwz2-P0NWytceqTyhSeQ  --UNNdnHRhsyFUbDgumdtQ  2018-07-31 06:27:48   \n",
       "474      diBwz2-P0NWytceqTyhSeQ  --UNNdnHRhsyFUbDgumdtQ  2018-07-31 06:27:48   \n",
       "475      diBwz2-P0NWytceqTyhSeQ  --UNNdnHRhsyFUbDgumdtQ  2018-07-31 06:27:48   \n",
       "...                         ...                     ...                  ...   \n",
       "8057013  GyXfH0JaZ0TGUeVR39s6bQ  _zhfZvRPIfqEKM7YoIurgQ  2018-06-07 23:38:51   \n",
       "8057014  GyXfH0JaZ0TGUeVR39s6bQ  _zhfZvRPIfqEKM7YoIurgQ  2018-06-07 23:38:51   \n",
       "8057015  GyXfH0JaZ0TGUeVR39s6bQ  _zhfZvRPIfqEKM7YoIurgQ  2018-06-07 23:38:51   \n",
       "8057016  GyXfH0JaZ0TGUeVR39s6bQ  _zhfZvRPIfqEKM7YoIurgQ  2018-06-07 23:38:51   \n",
       "8057017  GyXfH0JaZ0TGUeVR39s6bQ  _zhfZvRPIfqEKM7YoIurgQ  2018-06-07 23:38:51   \n",
       "\n",
       "        removed_aspects_3                                                new  \\\n",
       "471                  WEEK                                [[0.0, 0.0, 100.0]]   \n",
       "472                  DISH  [[25.0, 0.0, 75.0], [50.0, 0.0, 50.0], [0.0, 0...   \n",
       "473                  MEAL  [[25.0, 0.0, 75.0], [50.0, 0.0, 50.0], [0.0, 0...   \n",
       "474               COUNTER  [[25.0, 0.0, 75.0], [50.0, 0.0, 50.0], [0.0, 0...   \n",
       "475                 MAGIC  [[25.0, 0.0, 75.0], [50.0, 0.0, 50.0], [0.0, 0...   \n",
       "...                   ...                                                ...   \n",
       "8057013              BABY  [[25.0, 12.5, 62.5], [20.0, 20.0, 60.0], [33.3...   \n",
       "8057014          DELIVERY  [[25.0, 12.5, 62.5], [20.0, 20.0, 60.0], [33.3...   \n",
       "8057015              BELL  [[25.0, 12.5, 62.5], [20.0, 20.0, 60.0], [33.3...   \n",
       "8057016               GUY  [[25.0, 12.5, 62.5], [20.0, 20.0, 60.0], [33.3...   \n",
       "8057017              BABY  [[25.0, 12.5, 62.5], [20.0, 20.0, 60.0], [33.3...   \n",
       "\n",
       "            pos  ...    neg  scores     _id  _labels  User_name community  \\\n",
       "471      100.00  ...   0.00  100.00     416   :USERS      Amber    150968   \n",
       "472       75.00  ...  25.00   50.00    1120   :USERS          K     92871   \n",
       "473       50.00  ...  50.00   -0.00    1120   :USERS          K     92871   \n",
       "474      100.00  ...   0.00  100.00    1120   :USERS          K     92871   \n",
       "475      100.00  ...   0.00  100.00    1120   :USERS          K     92871   \n",
       "...         ...  ...    ...     ...     ...      ...        ...       ...   \n",
       "8057013   66.67  ...  33.33   33.34  133808   :USERS  Sapirbeck     89433   \n",
       "8057014   62.50  ...  25.00   37.50  133808   :USERS  Sapirbeck     89433   \n",
       "8057015   60.00  ...  20.00   40.00  133808   :USERS  Sapirbeck     89433   \n",
       "8057016   66.67  ...  33.33   33.34  133808   :USERS  Sapirbeck     89433   \n",
       "8057017   66.67  ...  33.33   33.34  133808   :USERS  Sapirbeck     89433   \n",
       "\n",
       "         _start  _end  _type   size  \n",
       "471         NaN   NaN    NaN  SMALL  \n",
       "472         NaN   NaN    NaN  SMALL  \n",
       "473         NaN   NaN    NaN  SMALL  \n",
       "474         NaN   NaN    NaN  SMALL  \n",
       "475         NaN   NaN    NaN  SMALL  \n",
       "...         ...   ...    ...    ...  \n",
       "8057013     NaN   NaN    NaN  SMALL  \n",
       "8057014     NaN   NaN    NaN  SMALL  \n",
       "8057015     NaN   NaN    NaN  SMALL  \n",
       "8057016     NaN   NaN    NaN  SMALL  \n",
       "8057017     NaN   NaN    NaN  SMALL  \n",
       "\n",
       "[392139 rows x 21 columns]"
      ]
     },
     "execution_count": 79,
     "metadata": {},
     "output_type": "execute_result"
    }
   ],
   "source": [
    "small"
   ]
  },
  {
   "cell_type": "code",
   "execution_count": 54,
   "id": "38505bd3",
   "metadata": {},
   "outputs": [],
   "source": [
    "test= pd.merge(one, two,  how=\"inner\", on=[\"business_id\", \"removed_aspects_3\"])"
   ]
  },
  {
   "cell_type": "code",
   "execution_count": 64,
   "id": "0303ad3f",
   "metadata": {},
   "outputs": [],
   "source": [
    "small = small.loc[(test['small'] != 0.0)]"
   ]
  },
  {
   "cell_type": "code",
   "execution_count": 58,
   "id": "5998ae56",
   "metadata": {},
   "outputs": [],
   "source": [
    "test['diff'] = test['scores_y'] - test['scores_x']"
   ]
  },
  {
   "cell_type": "code",
   "execution_count": 66,
   "id": "eb1f7ef2",
   "metadata": {},
   "outputs": [
    {
     "data": {
      "text/plain": [
       "3.060494002933038"
      ]
     },
     "execution_count": 66,
     "metadata": {},
     "output_type": "execute_result"
    }
   ],
   "source": [
    "test['diff'].mean()"
   ]
  },
  {
   "cell_type": "code",
   "execution_count": 73,
   "id": "4a798b40",
   "metadata": {},
   "outputs": [
    {
     "data": {
      "text/plain": [
       "51.59149671937531"
      ]
     },
     "execution_count": 73,
     "metadata": {},
     "output_type": "execute_result"
    }
   ],
   "source": [
    "big['scores'].std()"
   ]
  },
  {
   "cell_type": "code",
   "execution_count": 77,
   "id": "80e8aa1d",
   "metadata": {},
   "outputs": [],
   "source": [
    "one = small.groupby(['community', 'business_id', 'removed_aspects_3'])['scores'].std()"
   ]
  },
  {
   "cell_type": "code",
   "execution_count": 82,
   "id": "f205262a",
   "metadata": {},
   "outputs": [],
   "source": [
    "one = one.to_frame()"
   ]
  },
  {
   "cell_type": "code",
   "execution_count": 86,
   "id": "5d7ec14c",
   "metadata": {},
   "outputs": [
    {
     "data": {
      "text/html": [
       "<div>\n",
       "<style scoped>\n",
       "    .dataframe tbody tr th:only-of-type {\n",
       "        vertical-align: middle;\n",
       "    }\n",
       "\n",
       "    .dataframe tbody tr th {\n",
       "        vertical-align: top;\n",
       "    }\n",
       "\n",
       "    .dataframe thead th {\n",
       "        text-align: right;\n",
       "    }\n",
       "</style>\n",
       "<table border=\"1\" class=\"dataframe\">\n",
       "  <thead>\n",
       "    <tr style=\"text-align: right;\">\n",
       "      <th></th>\n",
       "      <th></th>\n",
       "      <th></th>\n",
       "      <th>scores</th>\n",
       "    </tr>\n",
       "    <tr>\n",
       "      <th>community</th>\n",
       "      <th>business_id</th>\n",
       "      <th>removed_aspects_3</th>\n",
       "      <th></th>\n",
       "    </tr>\n",
       "  </thead>\n",
       "  <tbody>\n",
       "    <tr>\n",
       "      <th rowspan=\"5\" valign=\"top\">470</th>\n",
       "      <th rowspan=\"5\" valign=\"top\">e3XX21yOVXSsn-Ur7ciKAQ</th>\n",
       "      <th>COUNTER</th>\n",
       "      <td>117.853487</td>\n",
       "    </tr>\n",
       "    <tr>\n",
       "      <th>HUSBAND</th>\n",
       "      <td>47.135738</td>\n",
       "    </tr>\n",
       "    <tr>\n",
       "      <th>ORDER</th>\n",
       "      <td>70.710678</td>\n",
       "    </tr>\n",
       "    <tr>\n",
       "      <th>PLACE</th>\n",
       "      <td>66.856946</td>\n",
       "    </tr>\n",
       "    <tr>\n",
       "      <th>PLENTY</th>\n",
       "      <td>35.355339</td>\n",
       "    </tr>\n",
       "    <tr>\n",
       "      <th>...</th>\n",
       "      <th>...</th>\n",
       "      <th>...</th>\n",
       "      <td>...</td>\n",
       "    </tr>\n",
       "    <tr>\n",
       "      <th>198961</th>\n",
       "      <th>6yqPYHtG4LpOVushEzrxXw</th>\n",
       "      <th>REASON</th>\n",
       "      <td>28.284271</td>\n",
       "    </tr>\n",
       "    <tr>\n",
       "      <th>199315</th>\n",
       "      <th>YZs1gNSh_sN8JmN_nrpxeA</th>\n",
       "      <th>CORN</th>\n",
       "      <td>50.000000</td>\n",
       "    </tr>\n",
       "    <tr>\n",
       "      <th rowspan=\"2\" valign=\"top\">200830</th>\n",
       "      <th rowspan=\"2\" valign=\"top\">X3bKIX-3uk9970bNst49tA</th>\n",
       "      <th>FOOD</th>\n",
       "      <td>70.710678</td>\n",
       "    </tr>\n",
       "    <tr>\n",
       "      <th>SERVICE</th>\n",
       "      <td>64.820479</td>\n",
       "    </tr>\n",
       "    <tr>\n",
       "      <th>200961</th>\n",
       "      <th>X6ZwrbTz6AlmHqF1FGsOqg</th>\n",
       "      <th>AIRPORT</th>\n",
       "      <td>5.140666</td>\n",
       "    </tr>\n",
       "  </tbody>\n",
       "</table>\n",
       "<p>678 rows × 1 columns</p>\n",
       "</div>"
      ],
      "text/plain": [
       "                                                        scores\n",
       "community business_id            removed_aspects_3            \n",
       "470       e3XX21yOVXSsn-Ur7ciKAQ COUNTER            117.853487\n",
       "                                 HUSBAND             47.135738\n",
       "                                 ORDER               70.710678\n",
       "                                 PLACE               66.856946\n",
       "                                 PLENTY              35.355339\n",
       "...                                                        ...\n",
       "198961    6yqPYHtG4LpOVushEzrxXw REASON              28.284271\n",
       "199315    YZs1gNSh_sN8JmN_nrpxeA CORN                50.000000\n",
       "200830    X3bKIX-3uk9970bNst49tA FOOD                70.710678\n",
       "                                 SERVICE             64.820479\n",
       "200961    X6ZwrbTz6AlmHqF1FGsOqg AIRPORT              5.140666\n",
       "\n",
       "[678 rows x 1 columns]"
      ]
     },
     "execution_count": 86,
     "metadata": {},
     "output_type": "execute_result"
    }
   ],
   "source": [
    "one"
   ]
  },
  {
   "cell_type": "code",
   "execution_count": 84,
   "id": "61988f96",
   "metadata": {},
   "outputs": [],
   "source": [
    "one = one.loc[(one['scores'] != 0.0)]"
   ]
  },
  {
   "cell_type": "code",
   "execution_count": 85,
   "id": "a3605871",
   "metadata": {},
   "outputs": [],
   "source": [
    "one = one.dropna()"
   ]
  },
  {
   "cell_type": "code",
   "execution_count": 87,
   "id": "0e3aca25",
   "metadata": {},
   "outputs": [
    {
     "data": {
      "text/plain": [
       "scores    34.099869\n",
       "dtype: float64"
      ]
     },
     "execution_count": 87,
     "metadata": {},
     "output_type": "execute_result"
    }
   ],
   "source": [
    "one.mean()"
   ]
  }
 ],
 "metadata": {
  "kernelspec": {
   "display_name": "Python 3",
   "language": "python",
   "name": "python3"
  },
  "language_info": {
   "codemirror_mode": {
    "name": "ipython",
    "version": 3
   },
   "file_extension": ".py",
   "mimetype": "text/x-python",
   "name": "python",
   "nbconvert_exporter": "python",
   "pygments_lexer": "ipython3",
   "version": "3.8.8"
  }
 },
 "nbformat": 4,
 "nbformat_minor": 5
}
